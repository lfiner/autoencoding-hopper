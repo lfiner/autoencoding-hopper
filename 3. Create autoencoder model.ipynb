{
 "cells": [
  {
   "cell_type": "markdown",
   "metadata": {},
   "source": [
    "# <a id=\"top\"></a>Autoencoding Edward Hopper:<br>Using deep learning to recommend art\n",
    "\n",
    "[Larry Finer](mailto:lfiner@gmail.com)  \n",
    "March 2019\n",
    "\n",
    "The goal of this project was to build a model that would take an image of an artwork and compare it visually to a corpus of more than 100,000 artworks from museums and other sources in order to find works that are similar visually. The main steps in the project were:\n",
    "\n",
    "1. Download artwork images and metadata from multiple sites\n",
    "2. Combine metadata into a single pandas dataframe  \n",
    "3. **Develop a convolutional neural network autoencoder model that adequately reproduces the images** (this file)\n",
    "4. Extract the narrowest encoded layer and use it to encode the entire corpus as well as a test image; then compare the test image to the entire corpus using a cosine distance measure to find the nearest images\n",
    "\n",
    "<hr>  \n",
    "\n",
    "## 3. Create convolutional neural network autoencoder model\n",
    "\n",
    "### Sections\n",
    "[3a. Imports and setup](#3a)  \n",
    "[3b. Define autoencoder model](#3b)  \n",
    "[3c. Use ImageDataGenerator to prepare images for model](#3c)  \n",
    "[3d. Train the model](#3d)  \n",
    "[3e. Save the autoencoder and the feature extractor](#3e)"
   ]
  },
  {
   "cell_type": "markdown",
   "metadata": {},
   "source": [
    "### <a id=\"3a\"></a>3a. Imports and setup"
   ]
  },
  {
   "cell_type": "code",
   "execution_count": 3,
   "metadata": {
    "ExecuteTime": {
     "end_time": "2019-03-15T16:36:17.856551Z",
     "start_time": "2019-03-15T16:36:17.849815Z"
    }
   },
   "outputs": [],
   "source": [
    "import datetime\n",
    "import numpy as np\n",
    "import pandas as pd\n",
    "import os\n",
    "import cv2\n",
    "import pickle\n",
    "\n",
    "from keras.preprocessing.image import ImageDataGenerator\n",
    "from keras.models import Input\n",
    "from keras.layers import Input, Conv2D, MaxPooling2D, UpSampling2D\n",
    "from keras.models import Model, load_model\n",
    "from keras.callbacks import EarlyStopping\n",
    "\n",
    "import matplotlib.pyplot as plt"
   ]
  },
  {
   "cell_type": "code",
   "execution_count": 4,
   "metadata": {},
   "outputs": [],
   "source": [
    "# Set some parameters for use when tweaking CNN model for best performance.\n",
    "image_dimension = 200\n",
    "epochs = 20\n",
    "batch_size = 20"
   ]
  },
  {
   "cell_type": "markdown",
   "metadata": {},
   "source": [
    "3. Run model\n",
    "4. Save database? of encoded features for all images\n",
    "5. Build web front end to take a URL or uploaded image\n",
    "6. Build Flask app to:\n",
    "    1. Run the new image through my model\n",
    "    2. Find the x images in my database that are closest (cosine similarity? Manhattan distance?) \n",
    "    3. Display them"
   ]
  },
  {
   "cell_type": "markdown",
   "metadata": {},
   "source": [
    "### <a id=\"3b\"></a>3b. Define autoencoder model"
   ]
  },
  {
   "cell_type": "code",
   "execution_count": 5,
   "metadata": {
    "ExecuteTime": {
     "end_time": "2019-03-15T16:36:21.723273Z",
     "start_time": "2019-03-15T16:36:21.475664Z"
    }
   },
   "outputs": [],
   "source": [
    "# Input layer\n",
    "input_img = Input(shape=(image_dimension, image_dimension, 3))\n",
    "\n",
    "# Encoding layers\n",
    "x = Conv2D(512, (3, 3), activation='relu', padding='same')(input_img)\n",
    "x = MaxPooling2D((2, 2), padding='same')(x)\n",
    "x = Conv2D(64, (3, 3), activation='relu', padding='same')(x)\n",
    "x = MaxPooling2D((2, 2), padding='same')(x)\n",
    "x = Conv2D(16, (3, 3), activation='relu', padding='same')(x)\n",
    "encoded = MaxPooling2D((2, 2), padding='same', name='encoded_layer')(x)\n",
    "\n",
    "# Decoding layers\n",
    "x = Conv2D(16, (3, 3), activation='relu', padding='same')(encoded)\n",
    "x = UpSampling2D((2, 2))(x)\n",
    "x = Conv2D(64, (3, 3), activation='relu', padding='same')(x)\n",
    "x = UpSampling2D((2, 2))(x)\n",
    "x = Conv2D(512, (3, 3), activation='relu', padding='same')(x)\n",
    "x = UpSampling2D((2, 2))(x)\n",
    "decoded = Conv2D(3, (3, 3), activation='sigmoid', padding='same')(x)\n",
    "\n",
    "# Create model instance\n",
    "autoencoder = Model(input_img, decoded)\n",
    "autoencoder.compile(optimizer='adam', loss='mse', metrics=['acc'])"
   ]
  },
  {
   "cell_type": "code",
   "execution_count": 7,
   "metadata": {
    "ExecuteTime": {
     "end_time": "2019-03-15T16:36:22.981682Z",
     "start_time": "2019-03-15T16:36:22.972793Z"
    }
   },
   "outputs": [
    {
     "name": "stdout",
     "output_type": "stream",
     "text": [
      "_________________________________________________________________\n",
      "Layer (type)                 Output Shape              Param #   \n",
      "=================================================================\n",
      "input_1 (InputLayer)         (None, 200, 200, 3)       0         \n",
      "_________________________________________________________________\n",
      "conv2d_1 (Conv2D)            (None, 200, 200, 512)     14336     \n",
      "_________________________________________________________________\n",
      "max_pooling2d_1 (MaxPooling2 (None, 100, 100, 512)     0         \n",
      "_________________________________________________________________\n",
      "conv2d_2 (Conv2D)            (None, 100, 100, 64)      294976    \n",
      "_________________________________________________________________\n",
      "max_pooling2d_2 (MaxPooling2 (None, 50, 50, 64)        0         \n",
      "_________________________________________________________________\n",
      "conv2d_3 (Conv2D)            (None, 50, 50, 16)        9232      \n",
      "_________________________________________________________________\n",
      "encoded_layer (MaxPooling2D) (None, 25, 25, 16)        0         \n",
      "_________________________________________________________________\n",
      "conv2d_4 (Conv2D)            (None, 25, 25, 16)        2320      \n",
      "_________________________________________________________________\n",
      "up_sampling2d_1 (UpSampling2 (None, 50, 50, 16)        0         \n",
      "_________________________________________________________________\n",
      "conv2d_5 (Conv2D)            (None, 50, 50, 64)        9280      \n",
      "_________________________________________________________________\n",
      "up_sampling2d_2 (UpSampling2 (None, 100, 100, 64)      0         \n",
      "_________________________________________________________________\n",
      "conv2d_6 (Conv2D)            (None, 100, 100, 512)     295424    \n",
      "_________________________________________________________________\n",
      "up_sampling2d_3 (UpSampling2 (None, 200, 200, 512)     0         \n",
      "_________________________________________________________________\n",
      "conv2d_7 (Conv2D)            (None, 200, 200, 3)       13827     \n",
      "=================================================================\n",
      "Total params: 639,395\n",
      "Trainable params: 639,395\n",
      "Non-trainable params: 0\n",
      "_________________________________________________________________\n"
     ]
    }
   ],
   "source": [
    "autoencoder.summary()"
   ]
  },
  {
   "cell_type": "markdown",
   "metadata": {},
   "source": [
    "### <a id=\"3c\"></a>3c. Use ImageDataGenerator to prepare images for model"
   ]
  },
  {
   "cell_type": "code",
   "execution_count": 9,
   "metadata": {
    "ExecuteTime": {
     "end_time": "2019-03-15T16:36:25.354015Z",
     "start_time": "2019-03-15T16:36:25.349087Z"
    }
   },
   "outputs": [],
   "source": [
    "# Establish directories for image files.\n",
    "base_directory = '../data/autoencoder/'\n",
    "training_directory = os.path.join(base_directory, 'train/')\n",
    "validation_directory = os.path.join(base_directory, 'validate/')\n",
    "test_directory = os.path.join(base_directory, 'test/')"
   ]
  },
  {
   "cell_type": "code",
   "execution_count": 11,
   "metadata": {},
   "outputs": [],
   "source": [
    "# Sample files that will be used to train model.\n",
    "# Draw from folder that contains all images.\n",
    "sample_size = 10000\n",
    "allimage_directory = '../data/images/allimages/'\n",
    "total_image_count = len([name for name in os.listdir(allimage_directory)])\n",
    "all_image_names = os.listdir(allimage_directory)\n",
    "sample_indices = np.random.randint(0, total_image_count, size=sample_size)\n",
    "training_sample_indices = sample_indices[:int(sample_size*.8)]\n",
    "validation_sample_indices = sample_indices[int(sample_size*.8):]"
   ]
  },
  {
   "cell_type": "code",
   "execution_count": 13,
   "metadata": {},
   "outputs": [],
   "source": [
    "# Copy images into training and validation folders\n",
    "from shutil import copy2\n",
    "for training_sample_index in training_sample_indices:\n",
    "    copy2(allimage_directory + all_image_names[training_sample_index], training_directory + all_image_names[training_sample_index])\n",
    "for validation_sample_index in validation_sample_indices:\n",
    "    copy2(allimage_directory + all_image_names[validation_sample_index], validation_directory + all_image_names[validation_sample_index])"
   ]
  },
  {
   "cell_type": "code",
   "execution_count": 17,
   "metadata": {
    "ExecuteTime": {
     "end_time": "2019-03-15T16:36:26.967336Z",
     "start_time": "2019-03-15T16:36:26.647476Z"
    }
   },
   "outputs": [
    {
     "name": "stdout",
     "output_type": "stream",
     "text": [
      "Found 13723 images belonging to 1 classes.\n",
      "Found 2957 images belonging to 1 classes.\n"
     ]
    }
   ],
   "source": [
    "# Create generators to process the images.\n",
    "# All images will be rescaled by 1./255\n",
    "datagen = ImageDataGenerator(rescale=1./255)\n",
    "\n",
    "training_generator = datagen.flow_from_directory(\n",
    "        training_directory,\n",
    "        target_size=(image_dimension, image_dimension),\n",
    "        batch_size=batch_size,\n",
    "        # Since this is unsupervised there are no classes\n",
    "        class_mode='input')\n",
    "\n",
    "validation_generator = datagen.flow_from_directory(\n",
    "        validation_directory,\n",
    "        target_size=(image_dimension, image_dimension),\n",
    "        batch_size=batch_size,\n",
    "        # Since this is unsupervised there are no classes\n",
    "        class_mode='input')"
   ]
  },
  {
   "cell_type": "markdown",
   "metadata": {},
   "source": [
    "### <a id=\"3d\"></a>3d. Train the model "
   ]
  },
  {
   "cell_type": "code",
   "execution_count": 21,
   "metadata": {
    "ExecuteTime": {
     "end_time": "2019-03-15T16:36:31.075114Z",
     "start_time": "2019-03-15T16:36:31.071540Z"
    }
   },
   "outputs": [],
   "source": [
    "# Set up early stopping if additional epochs don't change loss.\n",
    "early_stopping = EarlyStopping(monitor='val_loss', min_delta=0, patience=5, verbose=1, mode='auto')"
   ]
  },
  {
   "cell_type": "code",
   "execution_count": 18,
   "metadata": {
    "ExecuteTime": {
     "end_time": "2019-03-15T16:36:28.856883Z",
     "start_time": "2019-03-15T16:36:28.852871Z"
    }
   },
   "outputs": [],
   "source": [
    "# Get number of samples for use in calculating number of steps.\n",
    "training_samples = training_generator.samples\n",
    "validation_samples = validation_generator.samples\n",
    "\n",
    "# Calculate number of steps.\n",
    "training_steps = training_samples / batch_size\n",
    "validation_steps = validation_samples / batch_size"
   ]
  },
  {
   "cell_type": "markdown",
   "metadata": {},
   "source": [
    "The next cell is the big one: train the model."
   ]
  },
  {
   "cell_type": "code",
   "execution_count": 1,
   "metadata": {
    "ExecuteTime": {
     "start_time": "2019-03-14T22:15:41.324Z"
    }
   },
   "outputs": [],
   "source": [
    "# Train the model.\n",
    "history = autoencoder.fit_generator(\n",
    "      training_generator,\n",
    "      steps_per_epoch=training_steps,\n",
    "      epochs=epochs,\n",
    "      validation_data=validation_generator,\n",
    "      validation_steps=validation_steps,\n",
    "      callbacks=[early_stopping])"
   ]
  },
  {
   "cell_type": "markdown",
   "metadata": {},
   "source": [
    "### <a id=\"3e\"></a>3e. Save the autoencoder model and the feature extractor (i.e., the model through the encoded layer)"
   ]
  },
  {
   "cell_type": "code",
   "execution_count": 16,
   "metadata": {
    "ExecuteTime": {
     "end_time": "2019-03-14T15:02:56.497798Z",
     "start_time": "2019-03-14T15:02:56.183085Z"
    }
   },
   "outputs": [],
   "source": [
    "# Save the autoencoder model.\n",
    "autoencoder.save('../data/autoencoder/models/autoencoder.h5')"
   ]
  },
  {
   "cell_type": "code",
   "execution_count": 18,
   "metadata": {},
   "outputs": [],
   "source": [
    "# Create and save the feature extractor model.\n",
    "feature_extractor = \\\n",
    "    Model(inputs=autoencoder.input, outputs=autoencoder.get_layer('encoded_layer').output)\n",
    "feature_extractor.save('../data/autoencoder/models/feature_extractor.h5')"
   ]
  },
  {
   "cell_type": "code",
   "execution_count": 19,
   "metadata": {
    "scrolled": true
   },
   "outputs": [
    {
     "data": {
      "image/png": "[encoded data removed]",
      "text/plain": [
       "<Figure size 432x288 with 1 Axes>"
      ]
     },
     "metadata": {},
     "output_type": "display_data"
    },
    {
     "data": {
      "image/png": "[encoded data removed]",
      "text/plain": [
       "<Figure size 432x288 with 1 Axes>"
      ]
     },
     "metadata": {},
     "output_type": "display_data"
    }
   ],
   "source": [
    "# Look at accuracy and loss for training and validation sets\n",
    "acc = history.history['acc']\n",
    "val_acc = history.history['val_acc']\n",
    "loss = history.history['loss']\n",
    "val_loss = history.history['val_loss']\n",
    "\n",
    "epochs = range(len(acc))\n",
    "\n",
    "plt.plot(epochs, acc, 'bo', label='Training acc')\n",
    "plt.plot(epochs, val_acc, 'b', label='Validation acc')\n",
    "plt.title('Training and validation accuracy')\n",
    "plt.legend()\n",
    "\n",
    "plt.figure()\n",
    "\n",
    "plt.plot(epochs, loss, 'bo', label='Training loss')\n",
    "plt.plot(epochs, val_loss, 'b', label='Validation loss')\n",
    "plt.title('Training and validation loss')\n",
    "plt.legend()\n",
    "\n",
    "plt.show()"
   ]
  }
 ],
 "metadata": {
  "kernelspec": {
   "display_name": "Python 3",
   "language": "python",
   "name": "python3"
  },
  "language_info": {
   "codemirror_mode": {
    "name": "ipython",
    "version": 3
   },
   "file_extension": ".py",
   "mimetype": "text/x-python",
   "name": "python",
   "nbconvert_exporter": "python",
   "pygments_lexer": "ipython3",
   "version": "3.6.8"
  }
 },
 "nbformat": 4,
 "nbformat_minor": 2
}
