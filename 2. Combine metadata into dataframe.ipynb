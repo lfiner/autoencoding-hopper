{
 "cells": [
  {
   "cell_type": "markdown",
   "metadata": {},
   "source": [
    "# <a id=\"top\"></a>Autoencoding Edward Hopper:<br>Using deep learning to recommend art\n",
    "\n",
    "[Larry Finer](mailto:lfiner@gmail.com)  \n",
    "March 2019\n",
    "\n",
    "The goal of this project was to build a model that would take an image of an artwork and compare it visually to a corpus of more than 100,000 artworks from museums and other sources in order to find works that are similar visually. The main steps in the project were:\n",
    "\n",
    "1. Download artwork images and metadata from multiple sites\n",
    "2. **Combine metadata into a single pandas dataframe** (this file)  \n",
    "3. Develop a convolutional neural network autoencoder model that adequately reproduces the images  \n",
    "4. Extract the narrowest encoded layer and use it to encode the entire corpus as well as a test image; then compare the test image to the entire corpus using a cosine distance measure to find the nearest images\n",
    "\n",
    "<hr>\n",
    "\n",
    "## 2. Combine metadata into a single pandas dataframe \n",
    "\n",
    "### Sections\n",
    "[2a. Imports and setup](#2a)  \n",
    "[2b. Artspace](#2b)  \n",
    "[2c. Guggenheim](#2c)  \n",
    "[2d. MoMA](#2d)  \n",
    "[2e. NGA](#2e)  \n",
    "[2f. Tate](#2f)  \n",
    "[2g. Whitney](#2g)  \n",
    "[2h. Merge all](#2h)"
   ]
  },
  {
   "cell_type": "markdown",
   "metadata": {},
   "source": [
    "### <a id=\"2a\"></a>2a. Imports and setup"
   ]
  },
  {
   "cell_type": "code",
   "execution_count": 1,
   "metadata": {
    "ExecuteTime": {
     "end_time": "2019-03-27T20:31:24.489875Z",
     "start_time": "2019-03-27T20:31:23.908631Z"
    }
   },
   "outputs": [],
   "source": [
    "import pandas as pd\n",
    "import pickle\n",
    "import datetime as dt"
   ]
  },
  {
   "cell_type": "markdown",
   "metadata": {},
   "source": [
    "### <a id=\"2b\"></a>2b. Artspace"
   ]
  },
  {
   "cell_type": "code",
   "execution_count": 2,
   "metadata": {
    "ExecuteTime": {
     "end_time": "2019-03-27T20:31:24.623589Z",
     "start_time": "2019-03-27T20:31:24.492100Z"
    }
   },
   "outputs": [],
   "source": [
    "# Clean artspace dataframe\n",
    "artspace = pickle.load(open('../data/artspace/Artists and artworks dataframe.pickle', 'rb'))"
   ]
  },
  {
   "cell_type": "code",
   "execution_count": 3,
   "metadata": {
    "ExecuteTime": {
     "end_time": "2019-03-27T20:31:24.679309Z",
     "start_time": "2019-03-27T20:31:24.626000Z"
    }
   },
   "outputs": [],
   "source": [
    "# Drop artist ID and unique name\n",
    "artspace.drop(columns=['id', 'artist'], inplace=True)"
   ]
  },
  {
   "cell_type": "code",
   "execution_count": 4,
   "metadata": {
    "ExecuteTime": {
     "end_time": "2019-03-27T20:31:24.707964Z",
     "start_time": "2019-03-27T20:31:24.685961Z"
    }
   },
   "outputs": [],
   "source": [
    "# Prettify medium\n",
    "artspace['medium'] = artspace['medium'].str.replace('-', ' ').str.capitalize()"
   ]
  },
  {
   "cell_type": "code",
   "execution_count": 5,
   "metadata": {
    "ExecuteTime": {
     "end_time": "2019-03-27T20:31:24.793685Z",
     "start_time": "2019-03-27T20:31:24.710915Z"
    }
   },
   "outputs": [],
   "source": [
    "artspace.rename(columns={'artwork_id': 'id', 'name_pretty': 'artist', 'year_created': 'date', 'artwork_url': 'page_url'}, inplace=True)\n",
    "artspace['id'] = 'artspace_' + artspace['id'].astype(int).astype(str)\n",
    "artspace.loc[artspace['date'].isna(), 'date'] = 0\n",
    "artspace['date'] = artspace['date'].astype(int)\n",
    "artspace['source'] = 'artspace'"
   ]
  },
  {
   "cell_type": "code",
   "execution_count": 6,
   "metadata": {
    "ExecuteTime": {
     "end_time": "2019-03-27T20:31:24.846035Z",
     "start_time": "2019-03-27T20:31:24.795554Z"
    }
   },
   "outputs": [],
   "source": [
    "artspace = artspace[['id', 'artist', 'title', 'date', 'medium', 'source', 'page_url', 'image_url']]"
   ]
  },
  {
   "cell_type": "code",
   "execution_count": 7,
   "metadata": {
    "ExecuteTime": {
     "end_time": "2019-03-27T20:31:24.881122Z",
     "start_time": "2019-03-27T20:31:24.848568Z"
    }
   },
   "outputs": [
    {
     "data": {
      "text/html": [
       "<div>\n",
       "<style scoped>\n",
       "    .dataframe tbody tr th:only-of-type {\n",
       "        vertical-align: middle;\n",
       "    }\n",
       "\n",
       "    .dataframe tbody tr th {\n",
       "        vertical-align: top;\n",
       "    }\n",
       "\n",
       "    .dataframe thead th {\n",
       "        text-align: right;\n",
       "    }\n",
       "</style>\n",
       "<table border=\"1\" class=\"dataframe\">\n",
       "  <thead>\n",
       "    <tr style=\"text-align: right;\">\n",
       "      <th></th>\n",
       "      <th>id</th>\n",
       "      <th>artist</th>\n",
       "      <th>title</th>\n",
       "      <th>date</th>\n",
       "      <th>medium</th>\n",
       "      <th>source</th>\n",
       "      <th>page_url</th>\n",
       "      <th>image_url</th>\n",
       "    </tr>\n",
       "  </thead>\n",
       "  <tbody>\n",
       "    <tr>\n",
       "      <th>0</th>\n",
       "      <td>artspace_35537</td>\n",
       "      <td>Lola Soloveychik</td>\n",
       "      <td>The Dead Sea</td>\n",
       "      <td>2015</td>\n",
       "      <td>Photograph</td>\n",
       "      <td>artspace</td>\n",
       "      <td>https://www.artspace.com/lola-soloveychik/the-...</td>\n",
       "      <td>https://d5wt70d4gnm1t.cloudfront.net/media/a-s...</td>\n",
       "    </tr>\n",
       "    <tr>\n",
       "      <th>1</th>\n",
       "      <td>artspace_35538</td>\n",
       "      <td>Lola Soloveychik</td>\n",
       "      <td>California Sun</td>\n",
       "      <td>2013</td>\n",
       "      <td>Photograph</td>\n",
       "      <td>artspace</td>\n",
       "      <td>https://www.artspace.com/lola-soloveychik/cali...</td>\n",
       "      <td>https://d5wt70d4gnm1t.cloudfront.net/media/a-s...</td>\n",
       "    </tr>\n",
       "    <tr>\n",
       "      <th>2</th>\n",
       "      <td>artspace_53265</td>\n",
       "      <td>Mimmo Paladino</td>\n",
       "      <td>Horse and Knight</td>\n",
       "      <td>2008</td>\n",
       "      <td>Print</td>\n",
       "      <td>artspace</td>\n",
       "      <td>https://www.artspace.com/mimmo_paladino/horse-...</td>\n",
       "      <td>https://d5wt70d4gnm1t.cloudfront.net/media/a-s...</td>\n",
       "    </tr>\n",
       "    <tr>\n",
       "      <th>3</th>\n",
       "      <td>artspace_32803</td>\n",
       "      <td>Mimmo Paladino</td>\n",
       "      <td>Gli animali avanzano</td>\n",
       "      <td>1982</td>\n",
       "      <td>Print</td>\n",
       "      <td>artspace</td>\n",
       "      <td>https://www.artspace.com/mimmo_paladino/gli-an...</td>\n",
       "      <td>https://d5wt70d4gnm1t.cloudfront.net/media/a-s...</td>\n",
       "    </tr>\n",
       "    <tr>\n",
       "      <th>4</th>\n",
       "      <td>artspace_33077</td>\n",
       "      <td>Mimmo Paladino</td>\n",
       "      <td>Il Sognatore</td>\n",
       "      <td>1982</td>\n",
       "      <td>Print</td>\n",
       "      <td>artspace</td>\n",
       "      <td>https://www.artspace.com/mimmo_paladino/il-sog...</td>\n",
       "      <td>https://d5wt70d4gnm1t.cloudfront.net/media/a-s...</td>\n",
       "    </tr>\n",
       "  </tbody>\n",
       "</table>\n",
       "</div>"
      ],
      "text/plain": [
       "               id            artist                 title  date      medium  \\\n",
       "0  artspace_35537  Lola Soloveychik          The Dead Sea  2015  Photograph   \n",
       "1  artspace_35538  Lola Soloveychik        California Sun  2013  Photograph   \n",
       "2  artspace_53265    Mimmo Paladino      Horse and Knight  2008       Print   \n",
       "3  artspace_32803    Mimmo Paladino  Gli animali avanzano  1982       Print   \n",
       "4  artspace_33077    Mimmo Paladino          Il Sognatore  1982       Print   \n",
       "\n",
       "     source                                           page_url  \\\n",
       "0  artspace  https://www.artspace.com/lola-soloveychik/the-...   \n",
       "1  artspace  https://www.artspace.com/lola-soloveychik/cali...   \n",
       "2  artspace  https://www.artspace.com/mimmo_paladino/horse-...   \n",
       "3  artspace  https://www.artspace.com/mimmo_paladino/gli-an...   \n",
       "4  artspace  https://www.artspace.com/mimmo_paladino/il-sog...   \n",
       "\n",
       "                                           image_url  \n",
       "0  https://d5wt70d4gnm1t.cloudfront.net/media/a-s...  \n",
       "1  https://d5wt70d4gnm1t.cloudfront.net/media/a-s...  \n",
       "2  https://d5wt70d4gnm1t.cloudfront.net/media/a-s...  \n",
       "3  https://d5wt70d4gnm1t.cloudfront.net/media/a-s...  \n",
       "4  https://d5wt70d4gnm1t.cloudfront.net/media/a-s...  "
      ]
     },
     "execution_count": 7,
     "metadata": {},
     "output_type": "execute_result"
    }
   ],
   "source": [
    "artspace.head()"
   ]
  },
  {
   "cell_type": "code",
   "execution_count": 8,
   "metadata": {
    "ExecuteTime": {
     "end_time": "2019-03-27T20:31:24.934235Z",
     "start_time": "2019-03-27T20:31:24.891043Z"
    }
   },
   "outputs": [],
   "source": [
    "pickle.dump(artspace, open('../data/all/artspace.pickle', 'wb'))"
   ]
  },
  {
   "cell_type": "code",
   "execution_count": 9,
   "metadata": {
    "ExecuteTime": {
     "end_time": "2019-03-27T20:31:24.949027Z",
     "start_time": "2019-03-27T20:31:24.937828Z"
    }
   },
   "outputs": [
    {
     "data": {
      "text/plain": [
       "(15774, 8)"
      ]
     },
     "execution_count": 9,
     "metadata": {},
     "output_type": "execute_result"
    }
   ],
   "source": [
    "artspace.shape"
   ]
  },
  {
   "cell_type": "markdown",
   "metadata": {},
   "source": [
    "### <a id=\"2c\"></a>2c. Guggenheim"
   ]
  },
  {
   "cell_type": "code",
   "execution_count": 10,
   "metadata": {
    "ExecuteTime": {
     "end_time": "2019-03-27T20:31:24.975223Z",
     "start_time": "2019-03-27T20:31:24.952898Z"
    }
   },
   "outputs": [],
   "source": [
    "gugg = pd.DataFrame(pickle.load(open('../data/gugg/gugg.pickle', 'rb')))"
   ]
  },
  {
   "cell_type": "code",
   "execution_count": 11,
   "metadata": {
    "ExecuteTime": {
     "end_time": "2019-03-27T20:31:25.004621Z",
     "start_time": "2019-03-27T20:31:24.977509Z"
    }
   },
   "outputs": [],
   "source": [
    "gugg.rename(columns={'artwork_uid': 'id'}, inplace=True)\n",
    "gugg['page_url'] = 'https://www.guggenheim.org/artwork/' + gugg['id'].astype(str)\n",
    "# gugg['image_url'] = ''\n",
    "gugg['id'] = 'gugg_' + gugg['id'].astype(str)\n",
    "gugg['date'] = gugg['date'].str[:4]\n",
    "gugg['medium'] = ''\n",
    "gugg['source'] = 'gugg'\n",
    "gugg = gugg[['id', 'artist', 'title', 'date', 'medium', 'source', 'page_url', 'image_url']]"
   ]
  },
  {
   "cell_type": "code",
   "execution_count": 12,
   "metadata": {
    "ExecuteTime": {
     "end_time": "2019-03-27T20:31:25.025262Z",
     "start_time": "2019-03-27T20:31:25.007290Z"
    }
   },
   "outputs": [
    {
     "data": {
      "text/html": [
       "<div>\n",
       "<style scoped>\n",
       "    .dataframe tbody tr th:only-of-type {\n",
       "        vertical-align: middle;\n",
       "    }\n",
       "\n",
       "    .dataframe tbody tr th {\n",
       "        vertical-align: top;\n",
       "    }\n",
       "\n",
       "    .dataframe thead th {\n",
       "        text-align: right;\n",
       "    }\n",
       "</style>\n",
       "<table border=\"1\" class=\"dataframe\">\n",
       "  <thead>\n",
       "    <tr style=\"text-align: right;\">\n",
       "      <th></th>\n",
       "      <th>id</th>\n",
       "      <th>artist</th>\n",
       "      <th>title</th>\n",
       "      <th>date</th>\n",
       "      <th>medium</th>\n",
       "      <th>source</th>\n",
       "      <th>page_url</th>\n",
       "      <th>image_url</th>\n",
       "    </tr>\n",
       "  </thead>\n",
       "  <tbody>\n",
       "    <tr>\n",
       "      <th>0</th>\n",
       "      <td>gugg_8303</td>\n",
       "      <td>Wallace Mitchell</td>\n",
       "      <td>Composition No. 2</td>\n",
       "      <td>1946</td>\n",
       "      <td></td>\n",
       "      <td>gugg</td>\n",
       "      <td>https://www.guggenheim.org/artwork/8303</td>\n",
       "      <td>https://i0.wp.com/www.guggenheim.org/wp-conten...</td>\n",
       "    </tr>\n",
       "    <tr>\n",
       "      <th>1</th>\n",
       "      <td>gugg_493</td>\n",
       "      <td>William Baziotes</td>\n",
       "      <td>Dusk</td>\n",
       "      <td>1958</td>\n",
       "      <td></td>\n",
       "      <td>gugg</td>\n",
       "      <td>https://www.guggenheim.org/artwork/493</td>\n",
       "      <td>https://i2.wp.com/www.guggenheim.org/wp-conten...</td>\n",
       "    </tr>\n",
       "    <tr>\n",
       "      <th>2</th>\n",
       "      <td>gugg_18939</td>\n",
       "      <td>Piotr Uklanski</td>\n",
       "      <td>Untitled (Dance Floor)</td>\n",
       "      <td>1996</td>\n",
       "      <td></td>\n",
       "      <td>gugg</td>\n",
       "      <td>https://www.guggenheim.org/artwork/18939</td>\n",
       "      <td>https://i2.wp.com/www.guggenheim.org/wp-conten...</td>\n",
       "    </tr>\n",
       "    <tr>\n",
       "      <th>3</th>\n",
       "      <td>gugg_1186</td>\n",
       "      <td>Max Ernst</td>\n",
       "      <td>Attirement of the Bride (La Toilette de la mar...</td>\n",
       "      <td>1940</td>\n",
       "      <td></td>\n",
       "      <td>gugg</td>\n",
       "      <td>https://www.guggenheim.org/artwork/1186</td>\n",
       "      <td>https://i2.wp.com/www.guggenheim.org/wp-conten...</td>\n",
       "    </tr>\n",
       "    <tr>\n",
       "      <th>4</th>\n",
       "      <td>gugg_13481</td>\n",
       "      <td>Rirkrit Tiravanija</td>\n",
       "      <td>untitled 2002 (he promised)</td>\n",
       "      <td>2002</td>\n",
       "      <td></td>\n",
       "      <td>gugg</td>\n",
       "      <td>https://www.guggenheim.org/artwork/13481</td>\n",
       "      <td>https://i2.wp.com/www.guggenheim.org/wp-conten...</td>\n",
       "    </tr>\n",
       "  </tbody>\n",
       "</table>\n",
       "</div>"
      ],
      "text/plain": [
       "           id              artist  \\\n",
       "0   gugg_8303    Wallace Mitchell   \n",
       "1    gugg_493    William Baziotes   \n",
       "2  gugg_18939      Piotr Uklanski   \n",
       "3   gugg_1186           Max Ernst   \n",
       "4  gugg_13481  Rirkrit Tiravanija   \n",
       "\n",
       "                                               title  date medium source  \\\n",
       "0                                  Composition No. 2  1946          gugg   \n",
       "1                                               Dusk  1958          gugg   \n",
       "2                             Untitled (Dance Floor)  1996          gugg   \n",
       "3  Attirement of the Bride (La Toilette de la mar...  1940          gugg   \n",
       "4                        untitled 2002 (he promised)  2002          gugg   \n",
       "\n",
       "                                   page_url  \\\n",
       "0   https://www.guggenheim.org/artwork/8303   \n",
       "1    https://www.guggenheim.org/artwork/493   \n",
       "2  https://www.guggenheim.org/artwork/18939   \n",
       "3   https://www.guggenheim.org/artwork/1186   \n",
       "4  https://www.guggenheim.org/artwork/13481   \n",
       "\n",
       "                                           image_url  \n",
       "0  https://i0.wp.com/www.guggenheim.org/wp-conten...  \n",
       "1  https://i2.wp.com/www.guggenheim.org/wp-conten...  \n",
       "2  https://i2.wp.com/www.guggenheim.org/wp-conten...  \n",
       "3  https://i2.wp.com/www.guggenheim.org/wp-conten...  \n",
       "4  https://i2.wp.com/www.guggenheim.org/wp-conten...  "
      ]
     },
     "execution_count": 12,
     "metadata": {},
     "output_type": "execute_result"
    }
   ],
   "source": [
    "gugg.head()"
   ]
  },
  {
   "cell_type": "code",
   "execution_count": 13,
   "metadata": {
    "ExecuteTime": {
     "end_time": "2019-03-27T20:31:25.036432Z",
     "start_time": "2019-03-27T20:31:25.028069Z"
    }
   },
   "outputs": [],
   "source": [
    "pickle.dump(gugg, open('../data/all/gugg.pickle', 'wb'))"
   ]
  },
  {
   "cell_type": "markdown",
   "metadata": {},
   "source": [
    "### <a id=\"2d\"></a>2d. MoMA"
   ]
  },
  {
   "cell_type": "code",
   "execution_count": 14,
   "metadata": {
    "ExecuteTime": {
     "end_time": "2019-03-27T20:31:26.616307Z",
     "start_time": "2019-03-27T20:31:25.038827Z"
    }
   },
   "outputs": [],
   "source": [
    "moma = pd.read_csv('../data/moma/MoMA artworks.csv')"
   ]
  },
  {
   "cell_type": "code",
   "execution_count": 15,
   "metadata": {
    "ExecuteTime": {
     "end_time": "2019-03-27T20:31:26.625906Z",
     "start_time": "2019-03-27T20:31:26.618655Z"
    }
   },
   "outputs": [
    {
     "data": {
      "text/plain": [
       "Index(['ObjectID', 'URL', 'ThumbnailURL', 'Title', 'Artist', 'ConstituentID',\n",
       "       'ArtistBio', 'Nationality', 'BeginDate', 'EndDate', 'Gender', 'Date',\n",
       "       'Medium', 'Dimensions', 'CreditLine', 'AccessionNumber',\n",
       "       'Classification', 'Department', 'DateAcquired', 'Cataloged',\n",
       "       'Circumference (cm)', 'Depth (cm)', 'Diameter (cm)', 'Height (cm)',\n",
       "       'Length (cm)', 'Weight (kg)', 'Width (cm)', 'Seat Height (cm)',\n",
       "       'Duration (sec.)'],\n",
       "      dtype='object')"
      ]
     },
     "execution_count": 15,
     "metadata": {},
     "output_type": "execute_result"
    }
   ],
   "source": [
    "moma.columns"
   ]
  },
  {
   "cell_type": "code",
   "execution_count": 16,
   "metadata": {
    "ExecuteTime": {
     "end_time": "2019-03-27T20:31:26.640812Z",
     "start_time": "2019-03-27T20:31:26.629671Z"
    }
   },
   "outputs": [
    {
     "data": {
      "text/plain": [
       "(136759, 29)"
      ]
     },
     "execution_count": 16,
     "metadata": {},
     "output_type": "execute_result"
    }
   ],
   "source": [
    "moma.shape"
   ]
  },
  {
   "cell_type": "code",
   "execution_count": 17,
   "metadata": {
    "ExecuteTime": {
     "end_time": "2019-03-27T20:31:26.794523Z",
     "start_time": "2019-03-27T20:31:26.644022Z"
    }
   },
   "outputs": [
    {
     "data": {
      "text/plain": [
       "http://www.moma.org/media/W1siZiIsIjE5OTkxNCJdLFsicCIsImNvbnZlcnQiLCItcmVzaXplIDMwMHgzMDBcdTAwM2UiXV0.jpg?sha=cabab63ac5a7d402    59\n",
       "http://www.moma.org/media/W1siZiIsIjEzNjMxNSJdLFsicCIsImNvbnZlcnQiLCItcmVzaXplIDMwMHgzMDBcdTAwM2UiXV0.jpg?sha=fbf6ad0392f98ee3    28\n",
       "http://www.moma.org/media/W1siZiIsIjIzMDI1NyJdLFsicCIsImNvbnZlcnQiLCItcmVzaXplIDMwMHgzMDBcdTAwM2UiXV0.jpg?sha=1ef42de47aa2e7fb    11\n",
       "http://www.moma.org/media/W1siZiIsIjIyODM1MyJdLFsicCIsImNvbnZlcnQiLCItcmVzaXplIDMwMHgzMDBcdTAwM2UiXV0.jpg?sha=a1619cfbf3adbe4e     9\n",
       "http://www.moma.org/media/W1siZiIsIjYwMTUyIl0sWyJwIiwiY29udmVydCIsIi1yZXNpemUgMzAweDMwMFx1MDAzZSJdXQ.jpg?sha=7c56759cf53854e0      8\n",
       "http://www.moma.org/media/W1siZiIsIjIyODAxMyJdLFsicCIsImNvbnZlcnQiLCItcmVzaXplIDMwMHgzMDBcdTAwM2UiXV0.jpg?sha=1a7989f5c95ae577     7\n",
       "http://www.moma.org/media/W1siZiIsIjIyNzkxNCJdLFsicCIsImNvbnZlcnQiLCItcmVzaXplIDMwMHgzMDBcdTAwM2UiXV0.jpg?sha=96e9f3a10c31e0ba     7\n",
       "http://www.moma.org/media/W1siZiIsIjIyODgwNSJdLFsicCIsImNvbnZlcnQiLCItcmVzaXplIDMwMHgzMDBcdTAwM2UiXV0.jpg?sha=1a4a22e7ffbd3e66     5\n",
       "http://www.moma.org/media/W1siZiIsIjIyODM1NCJdLFsicCIsImNvbnZlcnQiLCItcmVzaXplIDMwMHgzMDBcdTAwM2UiXV0.jpg?sha=627c44031fd8cc9c     4\n",
       "http://www.moma.org/media/W1siZiIsIjYwOTMyIl0sWyJwIiwiY29udmVydCIsIi1yZXNpemUgMzAweDMwMFx1MDAzZSJdXQ.jpg?sha=c6438c9234435c8e      4\n",
       "http://www.moma.org/media/W1siZiIsIjE4NjY1MyJdLFsicCIsImNvbnZlcnQiLCItcmVzaXplIDMwMHgzMDBcdTAwM2UiXV0.jpg?sha=b29a4c6efbaf3948     3\n",
       "http://www.moma.org/media/W1siZiIsIjYwOTgyIl0sWyJwIiwiY29udmVydCIsIi1yZXNpemUgMzAweDMwMFx1MDAzZSJdXQ.jpg?sha=2b7b25536607e689      3\n",
       "http://www.moma.org/media/W1siZiIsIjIyNjUzMyJdLFsicCIsImNvbnZlcnQiLCItcmVzaXplIDMwMHgzMDBcdTAwM2UiXV0.jpg?sha=7ecbdac0a3fddd7b     3\n",
       "http://www.moma.org/media/W1siZiIsIjIyODk1MSJdLFsicCIsImNvbnZlcnQiLCItcmVzaXplIDMwMHgzMDBcdTAwM2UiXV0.jpg?sha=7cff918aa24e013c     3\n",
       "http://www.moma.org/media/W1siZiIsIjIyODg3MCJdLFsicCIsImNvbnZlcnQiLCItcmVzaXplIDMwMHgzMDBcdTAwM2UiXV0.jpg?sha=3d8986965e46fc3f     3\n",
       "http://www.moma.org/media/W1siZiIsIjE3NDAyOSJdLFsicCIsImNvbnZlcnQiLCItcmVzaXplIDMwMHgzMDBcdTAwM2UiXV0.jpg?sha=4b91a209b4bbbdd6     3\n",
       "http://www.moma.org/media/W1siZiIsIjU5MTM3Il0sWyJwIiwiY29udmVydCIsIi1yZXNpemUgMzAweDMwMFx1MDAzZSJdXQ.jpg?sha=61898875cb93e372      3\n",
       "http://www.moma.org/media/W1siZiIsIjM0MDkiXSxbInAiLCJjb252ZXJ0IiwiLXJlc2l6ZSAzMDB4MzAwXHUwMDNlIl1d.jpg?sha=58c66a11bfc105a5        3\n",
       "http://www.moma.org/media/W1siZiIsIjY1MjIzIl0sWyJwIiwiY29udmVydCIsIi1yZXNpemUgMzAweDMwMFx1MDAzZSJdXQ.jpg?sha=eba255afd2c1436a      3\n",
       "http://www.moma.org/media/W1siZiIsIjIzMDI0MSJdLFsicCIsImNvbnZlcnQiLCItcmVzaXplIDMwMHgzMDBcdTAwM2UiXV0.jpg?sha=23e438e65926d784     3\n",
       "http://www.moma.org/media/W1siZiIsIjIyNjUwNyJdLFsicCIsImNvbnZlcnQiLCItcmVzaXplIDMwMHgzMDBcdTAwM2UiXV0.jpg?sha=2960bf02ccff0dae     3\n",
       "http://www.moma.org/media/W1siZiIsIjY1MTY0Il0sWyJwIiwiY29udmVydCIsIi1yZXNpemUgMzAweDMwMFx1MDAzZSJdXQ.jpg?sha=084681c035d81da1      3\n",
       "http://www.moma.org/media/W1siZiIsIjExMDk3MSJdLFsicCIsImNvbnZlcnQiLCItcmVzaXplIDMwMHgzMDBcdTAwM2UiXV0.jpg?sha=1131e4d678195ecd     3\n",
       "http://www.moma.org/media/W1siZiIsIjQ0Mzk3OSJdLFsicCIsImNvbnZlcnQiLCItcmVzaXplIDMwMHgzMDBcdTAwM2UiXV0.jpg?sha=d4f4a9843063fa3a     3\n",
       "http://www.moma.org/media/W1siZiIsIjYxMjM4Il0sWyJwIiwiY29udmVydCIsIi1yZXNpemUgMzAweDMwMFx1MDAzZSJdXQ.jpg?sha=33ce13e313900419      3\n",
       "http://www.moma.org/media/W1siZiIsIjIyODQ5MCJdLFsicCIsImNvbnZlcnQiLCItcmVzaXplIDMwMHgzMDBcdTAwM2UiXV0.jpg?sha=1e34e15f4100822a     3\n",
       "http://www.moma.org/media/W1siZiIsIjY2NjUyIl0sWyJwIiwiY29udmVydCIsIi1yZXNpemUgMzAweDMwMFx1MDAzZSJdXQ.jpg?sha=22046fc8f47d4312      3\n",
       "http://www.moma.org/media/W1siZiIsIjMwNDEiXSxbInAiLCJjb252ZXJ0IiwiLXJlc2l6ZSAzMDB4MzAwXHUwMDNlIl1d.jpg?sha=86472e4a03075662        3\n",
       "http://www.moma.org/media/W1siZiIsIjEyOTYxMCJdLFsicCIsImNvbnZlcnQiLCItcmVzaXplIDMwMHgzMDBcdTAwM2UiXV0.jpg?sha=9e371dd0c8bfbd2e     2\n",
       "http://www.moma.org/media/W1siZiIsIjI4OTExNCJdLFsicCIsImNvbnZlcnQiLCItcmVzaXplIDMwMHgzMDBcdTAwM2UiXV0.jpg?sha=9bdec4b6fe84ea57     2\n",
       "                                                                                                                                  ..\n",
       "http://www.moma.org/media/W1siZiIsIjE3MzY4MCJdLFsicCIsImNvbnZlcnQiLCItcmVzaXplIDMwMHgzMDBcdTAwM2UiXV0.jpg?sha=39d932e2a576ac96     1\n",
       "http://www.moma.org/media/W1siZiIsIjE2MzIxMyJdLFsicCIsImNvbnZlcnQiLCItcmVzaXplIDMwMHgzMDBcdTAwM2UiXV0.jpg?sha=d5ec4378a12ad771     1\n",
       "http://www.moma.org/media/W1siZiIsIjMyOTMyNSJdLFsicCIsImNvbnZlcnQiLCItcmVzaXplIDMwMHgzMDBcdTAwM2UiXV0.jpg?sha=a05a0c25c388ec2d     1\n",
       "http://www.moma.org/media/W1siZiIsIjI1NDY2MiJdLFsicCIsImNvbnZlcnQiLCItcmVzaXplIDMwMHgzMDBcdTAwM2UiXV0.jpg?sha=f5c0b7e5b94c6c0b     1\n",
       "http://www.moma.org/media/W1siZiIsIjIxNzg5NSJdLFsicCIsImNvbnZlcnQiLCItcmVzaXplIDMwMHgzMDBcdTAwM2UiXV0.jpg?sha=edec70f82ad1c239     1\n",
       "http://www.moma.org/media/W1siZiIsIjIyNjE2OCJdLFsicCIsImNvbnZlcnQiLCItcmVzaXplIDMwMHgzMDBcdTAwM2UiXV0.jpg?sha=cad571e406b8c86f     1\n",
       "http://www.moma.org/media/W1siZiIsIjIxNDk0MiJdLFsicCIsImNvbnZlcnQiLCItcmVzaXplIDMwMHgzMDBcdTAwM2UiXV0.jpg?sha=7723905560636d71     1\n",
       "http://www.moma.org/media/W1siZiIsIjIzNTI2MSJdLFsicCIsImNvbnZlcnQiLCItcmVzaXplIDMwMHgzMDBcdTAwM2UiXV0.jpg?sha=cf63cb899b7566bd     1\n",
       "http://www.moma.org/media/W1siZiIsIjEyOTg2MSJdLFsicCIsImNvbnZlcnQiLCItcmVzaXplIDMwMHgzMDBcdTAwM2UiXV0.jpg?sha=61571a600d671905     1\n",
       "http://www.moma.org/media/W1siZiIsIjIzMDIxMCJdLFsicCIsImNvbnZlcnQiLCItcmVzaXplIDMwMHgzMDBcdTAwM2UiXV0.jpg?sha=9970bcf9f058bb9e     1\n",
       "http://www.moma.org/media/W1siZiIsIjQ0NDkwMiJdLFsicCIsImNvbnZlcnQiLCItcmVzaXplIDMwMHgzMDBcdTAwM2UiXV0.jpg?sha=a9c25edac116fc72     1\n",
       "http://www.moma.org/media/W1siZiIsIjMxMzA1NiJdLFsicCIsImNvbnZlcnQiLCItcmVzaXplIDMwMHgzMDBcdTAwM2UiXV0.jpg?sha=9a04b58853339252     1\n",
       "http://www.moma.org/media/W1siZiIsIjEyMjc2NiJdLFsicCIsImNvbnZlcnQiLCItcmVzaXplIDMwMHgzMDBcdTAwM2UiXV0.jpg?sha=60fe18944dfc6085     1\n",
       "http://www.moma.org/media/W1siZiIsIjE2OTkzMSJdLFsicCIsImNvbnZlcnQiLCItcmVzaXplIDMwMHgzMDBcdTAwM2UiXV0.jpg?sha=119db2491f340add     1\n",
       "http://www.moma.org/media/W1siZiIsIjE5MDI4NyJdLFsicCIsImNvbnZlcnQiLCItcmVzaXplIDMwMHgzMDBcdTAwM2UiXV0.jpg?sha=85f15434102346f0     1\n",
       "http://www.moma.org/media/W1siZiIsIjE5MjY4MCJdLFsicCIsImNvbnZlcnQiLCItcmVzaXplIDMwMHgzMDBcdTAwM2UiXV0.jpg?sha=b13bba214065bb15     1\n",
       "http://www.moma.org/media/W1siZiIsIjExNTc1MiJdLFsicCIsImNvbnZlcnQiLCItcmVzaXplIDMwMHgzMDBcdTAwM2UiXV0.jpg?sha=271fc7a0f712f439     1\n",
       "http://www.moma.org/media/W1siZiIsIjE4MjYxMiJdLFsicCIsImNvbnZlcnQiLCItcmVzaXplIDMwMHgzMDBcdTAwM2UiXV0.jpg?sha=88c67f5838a2077d     1\n",
       "http://www.moma.org/media/W1siZiIsIjIwNzIyMSJdLFsicCIsImNvbnZlcnQiLCItcmVzaXplIDMwMHgzMDBcdTAwM2UiXV0.jpg?sha=9b1d2741f605192e     1\n",
       "http://www.moma.org/media/W1siZiIsIjI3OTAyMyJdLFsicCIsImNvbnZlcnQiLCItcmVzaXplIDMwMHgzMDBcdTAwM2UiXV0.jpg?sha=04e36e344d4a2879     1\n",
       "http://www.moma.org/media/W1siZiIsIjEyMjAyNCJdLFsicCIsImNvbnZlcnQiLCItcmVzaXplIDMwMHgzMDBcdTAwM2UiXV0.jpg?sha=d6d49a7d1d68a037     1\n",
       "http://www.moma.org/media/W1siZiIsIjIzMDEzNiJdLFsicCIsImNvbnZlcnQiLCItcmVzaXplIDMwMHgzMDBcdTAwM2UiXV0.jpg?sha=c9754a51536d636b     1\n",
       "http://www.moma.org/media/W1siZiIsIjE2NjkzNyJdLFsicCIsImNvbnZlcnQiLCItcmVzaXplIDMwMHgzMDBcdTAwM2UiXV0.jpg?sha=7fc0793d877aebf1     1\n",
       "http://www.moma.org/media/W1siZiIsIjgzNTYiXSxbInAiLCJjb252ZXJ0IiwiLXJlc2l6ZSAzMDB4MzAwXHUwMDNlIl1d.jpg?sha=ed4be4120e5096a2        1\n",
       "http://www.moma.org/media/W1siZiIsIjE3OTMyOSJdLFsicCIsImNvbnZlcnQiLCItcmVzaXplIDMwMHgzMDBcdTAwM2UiXV0.jpg?sha=8c32d5aa15fcf3c9     1\n",
       "http://www.moma.org/media/W1siZiIsIjI0Njk2MSJdLFsicCIsImNvbnZlcnQiLCItcmVzaXplIDMwMHgzMDBcdTAwM2UiXV0.jpg?sha=c17b9b9678279161     1\n",
       "http://www.moma.org/media/W1siZiIsIjExNTk1Il0sWyJwIiwiY29udmVydCIsIi1yZXNpemUgMzAweDMwMFx1MDAzZSJdXQ.jpg?sha=c1a6d6c17b3c522d      1\n",
       "http://www.moma.org/media/W1siZiIsIjEwOTU2MyJdLFsicCIsImNvbnZlcnQiLCItcmVzaXplIDMwMHgzMDBcdTAwM2UiXV0.jpg?sha=ba575946e56394a0     1\n",
       "http://www.moma.org/media/W1siZiIsIjE3NDc3MyJdLFsicCIsImNvbnZlcnQiLCItcmVzaXplIDMwMHgzMDBcdTAwM2UiXV0.jpg?sha=af2be07080b1bb18     1\n",
       "http://www.moma.org/media/W1siZiIsIjE5MzM1MCJdLFsicCIsImNvbnZlcnQiLCItcmVzaXplIDMwMHgzMDBcdTAwM2UiXV0.jpg?sha=bfb7a964aa792ba7     1\n",
       "Name: ThumbnailURL, Length: 68012, dtype: int64"
      ]
     },
     "execution_count": 17,
     "metadata": {},
     "output_type": "execute_result"
    }
   ],
   "source": [
    "moma.ThumbnailURL.value_counts()"
   ]
  },
  {
   "cell_type": "code",
   "execution_count": 18,
   "metadata": {
    "ExecuteTime": {
     "end_time": "2019-03-27T20:31:26.889928Z",
     "start_time": "2019-03-27T20:31:26.797970Z"
    }
   },
   "outputs": [],
   "source": [
    "moma = moma[moma.ThumbnailURL.notnull()]"
   ]
  },
  {
   "cell_type": "code",
   "execution_count": 19,
   "metadata": {
    "ExecuteTime": {
     "end_time": "2019-03-27T20:31:26.899037Z",
     "start_time": "2019-03-27T20:31:26.892869Z"
    }
   },
   "outputs": [
    {
     "data": {
      "text/plain": [
       "(68565, 29)"
      ]
     },
     "execution_count": 19,
     "metadata": {},
     "output_type": "execute_result"
    }
   ],
   "source": [
    "moma.shape"
   ]
  },
  {
   "cell_type": "code",
   "execution_count": 20,
   "metadata": {
    "ExecuteTime": {
     "end_time": "2019-03-27T20:31:27.219257Z",
     "start_time": "2019-03-27T20:31:26.902100Z"
    }
   },
   "outputs": [],
   "source": [
    "moma.rename(columns={'ObjectID': 'id', 'URL': 'page_url', 'ThumbnailURL': 'image_url', 'Title': 'title', 'Artist': 'artist', 'Date': 'date', 'Medium': 'medium'}, inplace=True)\n",
    "moma['id'] = 'moma_' + moma['id'].astype(str)\n",
    "moma['source'] = 'moma'\n",
    "moma = moma[['id', 'artist', 'title', 'date', 'medium', 'source', 'page_url', 'image_url']]"
   ]
  },
  {
   "cell_type": "code",
   "execution_count": 21,
   "metadata": {
    "ExecuteTime": {
     "end_time": "2019-03-27T20:31:27.231951Z",
     "start_time": "2019-03-27T20:31:27.220815Z"
    },
    "scrolled": true
   },
   "outputs": [
    {
     "data": {
      "text/html": [
       "<div>\n",
       "<style scoped>\n",
       "    .dataframe tbody tr th:only-of-type {\n",
       "        vertical-align: middle;\n",
       "    }\n",
       "\n",
       "    .dataframe tbody tr th {\n",
       "        vertical-align: top;\n",
       "    }\n",
       "\n",
       "    .dataframe thead th {\n",
       "        text-align: right;\n",
       "    }\n",
       "</style>\n",
       "<table border=\"1\" class=\"dataframe\">\n",
       "  <thead>\n",
       "    <tr style=\"text-align: right;\">\n",
       "      <th></th>\n",
       "      <th>id</th>\n",
       "      <th>artist</th>\n",
       "      <th>title</th>\n",
       "      <th>date</th>\n",
       "      <th>medium</th>\n",
       "      <th>source</th>\n",
       "      <th>page_url</th>\n",
       "      <th>image_url</th>\n",
       "    </tr>\n",
       "  </thead>\n",
       "  <tbody>\n",
       "    <tr>\n",
       "      <th>0</th>\n",
       "      <td>moma_2</td>\n",
       "      <td>Otto Wagner</td>\n",
       "      <td>Ferdinandsbrücke Project, Vienna, Austria, Ele...</td>\n",
       "      <td>1896</td>\n",
       "      <td>Ink and cut-and-pasted painted pages on paper</td>\n",
       "      <td>moma</td>\n",
       "      <td>http://www.moma.org/collection/works/2</td>\n",
       "      <td>http://www.moma.org/media/W1siZiIsIjU5NDA1Il0s...</td>\n",
       "    </tr>\n",
       "    <tr>\n",
       "      <th>1</th>\n",
       "      <td>moma_3</td>\n",
       "      <td>Christian de Portzamparc</td>\n",
       "      <td>City of Music, National Superior Conservatory ...</td>\n",
       "      <td>1987</td>\n",
       "      <td>Paint and colored pencil on print</td>\n",
       "      <td>moma</td>\n",
       "      <td>http://www.moma.org/collection/works/3</td>\n",
       "      <td>http://www.moma.org/media/W1siZiIsIjk3Il0sWyJw...</td>\n",
       "    </tr>\n",
       "    <tr>\n",
       "      <th>2</th>\n",
       "      <td>moma_4</td>\n",
       "      <td>Emil Hoppe</td>\n",
       "      <td>Villa near Vienna Project, Outside Vienna, Aus...</td>\n",
       "      <td>1903</td>\n",
       "      <td>Graphite, pen, color pencil, ink, and gouache ...</td>\n",
       "      <td>moma</td>\n",
       "      <td>http://www.moma.org/collection/works/4</td>\n",
       "      <td>http://www.moma.org/media/W1siZiIsIjk4Il0sWyJw...</td>\n",
       "    </tr>\n",
       "    <tr>\n",
       "      <th>3</th>\n",
       "      <td>moma_5</td>\n",
       "      <td>Bernard Tschumi</td>\n",
       "      <td>The Manhattan Transcripts Project, New York, N...</td>\n",
       "      <td>1980</td>\n",
       "      <td>Photographic reproduction with colored synthet...</td>\n",
       "      <td>moma</td>\n",
       "      <td>http://www.moma.org/collection/works/5</td>\n",
       "      <td>http://www.moma.org/media/W1siZiIsIjEyNCJdLFsi...</td>\n",
       "    </tr>\n",
       "    <tr>\n",
       "      <th>4</th>\n",
       "      <td>moma_6</td>\n",
       "      <td>Emil Hoppe</td>\n",
       "      <td>Villa, project, outside Vienna, Austria, Exter...</td>\n",
       "      <td>1903</td>\n",
       "      <td>Graphite, color pencil, ink, and gouache on tr...</td>\n",
       "      <td>moma</td>\n",
       "      <td>http://www.moma.org/collection/works/6</td>\n",
       "      <td>http://www.moma.org/media/W1siZiIsIjEyNiJdLFsi...</td>\n",
       "    </tr>\n",
       "  </tbody>\n",
       "</table>\n",
       "</div>"
      ],
      "text/plain": [
       "       id                    artist  \\\n",
       "0  moma_2               Otto Wagner   \n",
       "1  moma_3  Christian de Portzamparc   \n",
       "2  moma_4                Emil Hoppe   \n",
       "3  moma_5           Bernard Tschumi   \n",
       "4  moma_6                Emil Hoppe   \n",
       "\n",
       "                                               title  date  \\\n",
       "0  Ferdinandsbrücke Project, Vienna, Austria, Ele...  1896   \n",
       "1  City of Music, National Superior Conservatory ...  1987   \n",
       "2  Villa near Vienna Project, Outside Vienna, Aus...  1903   \n",
       "3  The Manhattan Transcripts Project, New York, N...  1980   \n",
       "4  Villa, project, outside Vienna, Austria, Exter...  1903   \n",
       "\n",
       "                                              medium source  \\\n",
       "0      Ink and cut-and-pasted painted pages on paper   moma   \n",
       "1                  Paint and colored pencil on print   moma   \n",
       "2  Graphite, pen, color pencil, ink, and gouache ...   moma   \n",
       "3  Photographic reproduction with colored synthet...   moma   \n",
       "4  Graphite, color pencil, ink, and gouache on tr...   moma   \n",
       "\n",
       "                                 page_url  \\\n",
       "0  http://www.moma.org/collection/works/2   \n",
       "1  http://www.moma.org/collection/works/3   \n",
       "2  http://www.moma.org/collection/works/4   \n",
       "3  http://www.moma.org/collection/works/5   \n",
       "4  http://www.moma.org/collection/works/6   \n",
       "\n",
       "                                           image_url  \n",
       "0  http://www.moma.org/media/W1siZiIsIjU5NDA1Il0s...  \n",
       "1  http://www.moma.org/media/W1siZiIsIjk3Il0sWyJw...  \n",
       "2  http://www.moma.org/media/W1siZiIsIjk4Il0sWyJw...  \n",
       "3  http://www.moma.org/media/W1siZiIsIjEyNCJdLFsi...  \n",
       "4  http://www.moma.org/media/W1siZiIsIjEyNiJdLFsi...  "
      ]
     },
     "execution_count": 21,
     "metadata": {},
     "output_type": "execute_result"
    }
   ],
   "source": [
    "moma.head()"
   ]
  },
  {
   "cell_type": "code",
   "execution_count": 22,
   "metadata": {
    "ExecuteTime": {
     "end_time": "2019-03-27T20:31:27.411756Z",
     "start_time": "2019-03-27T20:31:27.234743Z"
    }
   },
   "outputs": [],
   "source": [
    "pickle.dump(moma, open('../data/all/moma.pickle', 'wb'))"
   ]
  },
  {
   "cell_type": "markdown",
   "metadata": {},
   "source": [
    "### <a id=\"2e\"></a>2e. National Gallery of Art"
   ]
  },
  {
   "cell_type": "code",
   "execution_count": 56,
   "metadata": {
    "ExecuteTime": {
     "end_time": "2019-03-27T20:35:03.496614Z",
     "start_time": "2019-03-27T20:35:02.968404Z"
    }
   },
   "outputs": [],
   "source": [
    "nga = pd.DataFrame(pickle.load(open('../data/nga/nga.pickle', 'rb')))"
   ]
  },
  {
   "cell_type": "code",
   "execution_count": 57,
   "metadata": {
    "ExecuteTime": {
     "end_time": "2019-03-27T20:35:03.789669Z",
     "start_time": "2019-03-27T20:35:03.498784Z"
    }
   },
   "outputs": [],
   "source": [
    "nga.rename(columns={'artwork_uid': 'id'}, inplace=True)\n",
    "nga['page_url'] = 'https://www.nga.gov/collection/art-object-page.' + nga['id'].astype(str) + '.html'\n",
    "nga['id'] = 'nga_' + nga['id'].astype(str)\n",
    "nga['source'] = 'nga'"
   ]
  },
  {
   "cell_type": "code",
   "execution_count": 53,
   "metadata": {
    "ExecuteTime": {
     "end_time": "2019-03-27T20:34:23.789710Z",
     "start_time": "2019-03-27T20:34:23.745161Z"
    }
   },
   "outputs": [],
   "source": [
    "nga['date'] = nga['date'][-4:]"
   ]
  },
  {
   "cell_type": "code",
   "execution_count": 58,
   "metadata": {
    "ExecuteTime": {
     "end_time": "2019-03-27T20:35:07.250542Z",
     "start_time": "2019-03-27T20:35:07.207209Z"
    }
   },
   "outputs": [
    {
     "data": {
      "text/plain": [
       "                                     9530\n",
       "c. 1936                              3998\n",
       "1935/1942                            3525\n",
       "c. 1937                              3061\n",
       "c. 1938                              2016\n",
       "c. 1939                              1679\n",
       "c. 1940                              1615\n",
       "19th century                         1240\n",
       "1955-1967                            1227\n",
       "1936                                  858\n",
       "1937                                  727\n",
       "c. 1941                               639\n",
       "1938                                  634\n",
       "1969                                  570\n",
       "1939                                  556\n",
       "1975                                  538\n",
       "1968                                  500\n",
       "1972                                  461\n",
       "1976                                  440\n",
       "1940                                  435\n",
       "1965                                  430\n",
       "1973                                  428\n",
       "1967                                  426\n",
       "1947                                  408\n",
       "1963                                  406\n",
       "1966                                  396\n",
       "1948                                  393\n",
       "1971                                  370\n",
       "1941                                  366\n",
       "1962                                  365\n",
       "                                     ... \n",
       "1920/1942                               1\n",
       "1830/1836                               1\n",
       "1708/1722                               1\n",
       "1920/1923                               1\n",
       "c.1504-1505 (printed 1560s/1570s)       1\n",
       "1900-1908                               1\n",
       "possibly c. 1617                        1\n",
       "1907-1938                               1\n",
       "c. 1490/1503                            1\n",
       "December 1937                           1\n",
       "c.1810                                  1\n",
       "October 15, 1901                        1\n",
       "model c. 1830s                          1\n",
       "model c. 1841, cast by 1873             1\n",
       "late 1460s                              1\n",
       "1717/1718                               1\n",
       "1822/1839?                              1\n",
       "1758/1760                               1\n",
       "1930-1939                               1\n",
       "September 2002                          1\n",
       "before c. 1632                          1\n",
       "Summer 1987                             1\n",
       "1957/1958                               1\n",
       "1839-1844                               1\n",
       "July 1951                               1\n",
       "probably 1954                           1\n",
       "probably c. 1831                        1\n",
       "c. 1686                                 1\n",
       "c. 1878/1879                            1\n",
       "June 15, 1938                           1\n",
       "Name: date, Length: 5775, dtype: int64"
      ]
     },
     "execution_count": 58,
     "metadata": {},
     "output_type": "execute_result"
    }
   ],
   "source": [
    "nga.date.value_counts()"
   ]
  },
  {
   "cell_type": "code",
   "execution_count": 25,
   "metadata": {
    "ExecuteTime": {
     "end_time": "2019-03-27T20:31:28.474717Z",
     "start_time": "2019-03-27T20:31:28.321053Z"
    }
   },
   "outputs": [],
   "source": [
    "nga = nga[['id', 'artist', 'title', 'date', 'medium', 'source', 'page_url', 'image_url']]"
   ]
  },
  {
   "cell_type": "code",
   "execution_count": 26,
   "metadata": {
    "ExecuteTime": {
     "end_time": "2019-03-27T20:31:28.496027Z",
     "start_time": "2019-03-27T20:31:28.478789Z"
    }
   },
   "outputs": [
    {
     "data": {
      "text/html": [
       "<div>\n",
       "<style scoped>\n",
       "    .dataframe tbody tr th:only-of-type {\n",
       "        vertical-align: middle;\n",
       "    }\n",
       "\n",
       "    .dataframe tbody tr th {\n",
       "        vertical-align: top;\n",
       "    }\n",
       "\n",
       "    .dataframe thead th {\n",
       "        text-align: right;\n",
       "    }\n",
       "</style>\n",
       "<table border=\"1\" class=\"dataframe\">\n",
       "  <thead>\n",
       "    <tr style=\"text-align: right;\">\n",
       "      <th></th>\n",
       "      <th>id</th>\n",
       "      <th>artist</th>\n",
       "      <th>title</th>\n",
       "      <th>date</th>\n",
       "      <th>medium</th>\n",
       "      <th>source</th>\n",
       "      <th>page_url</th>\n",
       "      <th>image_url</th>\n",
       "    </tr>\n",
       "  </thead>\n",
       "  <tbody>\n",
       "    <tr>\n",
       "      <th>0</th>\n",
       "      <td>nga_27646</td>\n",
       "      <td>Francis Law Durand</td>\n",
       "      <td>Doll</td>\n",
       "      <td>c. 1939</td>\n",
       "      <td>pen and ink on paperboard</td>\n",
       "      <td>nga</td>\n",
       "      <td>https://www.nga.gov/collection/art-object-page...</td>\n",
       "      <td>https://media.nga.gov/iiif//public/objects/2/7...</td>\n",
       "    </tr>\n",
       "    <tr>\n",
       "      <th>1</th>\n",
       "      <td>nga_70914</td>\n",
       "      <td>Bruce Nauman, Ken Farley, Gemini G.E.L.</td>\n",
       "      <td>Shit and Die</td>\n",
       "      <td>1983</td>\n",
       "      <td>drypoint in black on J. Barcham Green Crisbroo...</td>\n",
       "      <td>nga</td>\n",
       "      <td>https://www.nga.gov/collection/art-object-page...</td>\n",
       "      <td>https://media.nga.gov/iiif//public/objects/7/0...</td>\n",
       "    </tr>\n",
       "    <tr>\n",
       "      <th>2</th>\n",
       "      <td>nga_71579</td>\n",
       "      <td>Sandro Chia</td>\n",
       "      <td>Father and Son Song</td>\n",
       "      <td>1987/1989</td>\n",
       "      <td>heliorelief and woodcut on hot-pressed T.H. Sa...</td>\n",
       "      <td>nga</td>\n",
       "      <td>https://www.nga.gov/collection/art-object-page...</td>\n",
       "      <td>https://media.nga.gov/iiif//public/objects/7/1...</td>\n",
       "    </tr>\n",
       "    <tr>\n",
       "      <th>3</th>\n",
       "      <td>nga_59247</td>\n",
       "      <td>Franz Edmund Weirotter</td>\n",
       "      <td>Houses on an Inlet</td>\n",
       "      <td></td>\n",
       "      <td>etching</td>\n",
       "      <td>nga</td>\n",
       "      <td>https://www.nga.gov/collection/art-object-page...</td>\n",
       "      <td>https://media.nga.gov/iiif//public/objects/5/9...</td>\n",
       "    </tr>\n",
       "    <tr>\n",
       "      <th>4</th>\n",
       "      <td>nga_127352</td>\n",
       "      <td>Ilse Bing</td>\n",
       "      <td>Self-Portrait</td>\n",
       "      <td>1953</td>\n",
       "      <td>gelatin silver print</td>\n",
       "      <td>nga</td>\n",
       "      <td>https://www.nga.gov/collection/art-object-page...</td>\n",
       "      <td>https://media.nga.gov/iiif//public/objects/1/2...</td>\n",
       "    </tr>\n",
       "  </tbody>\n",
       "</table>\n",
       "</div>"
      ],
      "text/plain": [
       "           id                                   artist                title  \\\n",
       "0   nga_27646                       Francis Law Durand                 Doll   \n",
       "1   nga_70914  Bruce Nauman, Ken Farley, Gemini G.E.L.         Shit and Die   \n",
       "2   nga_71579                              Sandro Chia  Father and Son Song   \n",
       "3   nga_59247                   Franz Edmund Weirotter   Houses on an Inlet   \n",
       "4  nga_127352                                Ilse Bing        Self-Portrait   \n",
       "\n",
       "        date                                             medium source  \\\n",
       "0    c. 1939                          pen and ink on paperboard    nga   \n",
       "1       1983  drypoint in black on J. Barcham Green Crisbroo...    nga   \n",
       "2  1987/1989  heliorelief and woodcut on hot-pressed T.H. Sa...    nga   \n",
       "3                                                       etching    nga   \n",
       "4       1953                               gelatin silver print    nga   \n",
       "\n",
       "                                            page_url  \\\n",
       "0  https://www.nga.gov/collection/art-object-page...   \n",
       "1  https://www.nga.gov/collection/art-object-page...   \n",
       "2  https://www.nga.gov/collection/art-object-page...   \n",
       "3  https://www.nga.gov/collection/art-object-page...   \n",
       "4  https://www.nga.gov/collection/art-object-page...   \n",
       "\n",
       "                                           image_url  \n",
       "0  https://media.nga.gov/iiif//public/objects/2/7...  \n",
       "1  https://media.nga.gov/iiif//public/objects/7/0...  \n",
       "2  https://media.nga.gov/iiif//public/objects/7/1...  \n",
       "3  https://media.nga.gov/iiif//public/objects/5/9...  \n",
       "4  https://media.nga.gov/iiif//public/objects/1/2...  "
      ]
     },
     "execution_count": 26,
     "metadata": {},
     "output_type": "execute_result"
    }
   ],
   "source": [
    "nga.head()"
   ]
  },
  {
   "cell_type": "code",
   "execution_count": 27,
   "metadata": {
    "ExecuteTime": {
     "end_time": "2019-03-27T20:31:28.798149Z",
     "start_time": "2019-03-27T20:31:28.498785Z"
    }
   },
   "outputs": [],
   "source": [
    "pickle.dump(nga, open('../data/all/nga.pickle', 'wb'))"
   ]
  },
  {
   "cell_type": "markdown",
   "metadata": {},
   "source": [
    "### <a id=\"2f\"></a>2f. Tate"
   ]
  },
  {
   "cell_type": "code",
   "execution_count": 28,
   "metadata": {
    "ExecuteTime": {
     "end_time": "2019-03-27T20:31:29.405894Z",
     "start_time": "2019-03-27T20:31:28.800644Z"
    }
   },
   "outputs": [],
   "source": [
    "tate = pd.DataFrame(pickle.load(open('../data/tate/tate.pickle', 'rb')))"
   ]
  },
  {
   "cell_type": "code",
   "execution_count": 29,
   "metadata": {
    "ExecuteTime": {
     "end_time": "2019-03-27T20:31:29.413998Z",
     "start_time": "2019-03-27T20:31:29.407835Z"
    }
   },
   "outputs": [
    {
     "data": {
      "text/plain": [
       "Index(['Acquisition', 'Artist', 'Artists', 'Collection', 'Dimensions',\n",
       "       'Medium', 'Original title', 'Part of', 'Reference', 'artist', 'date',\n",
       "       'image_url', 'title'],\n",
       "      dtype='object')"
      ]
     },
     "execution_count": 29,
     "metadata": {},
     "output_type": "execute_result"
    }
   ],
   "source": [
    "tate.columns"
   ]
  },
  {
   "cell_type": "code",
   "execution_count": 30,
   "metadata": {
    "ExecuteTime": {
     "end_time": "2019-03-27T20:31:29.454766Z",
     "start_time": "2019-03-27T20:31:29.417424Z"
    }
   },
   "outputs": [
    {
     "data": {
      "text/html": [
       "<div>\n",
       "<style scoped>\n",
       "    .dataframe tbody tr th:only-of-type {\n",
       "        vertical-align: middle;\n",
       "    }\n",
       "\n",
       "    .dataframe tbody tr th {\n",
       "        vertical-align: top;\n",
       "    }\n",
       "\n",
       "    .dataframe thead th {\n",
       "        text-align: right;\n",
       "    }\n",
       "</style>\n",
       "<table border=\"1\" class=\"dataframe\">\n",
       "  <thead>\n",
       "    <tr style=\"text-align: right;\">\n",
       "      <th></th>\n",
       "      <th>Acquisition</th>\n",
       "      <th>Artist</th>\n",
       "      <th>Artists</th>\n",
       "      <th>Collection</th>\n",
       "      <th>Dimensions</th>\n",
       "      <th>Medium</th>\n",
       "      <th>Original title</th>\n",
       "      <th>Part of</th>\n",
       "      <th>Reference</th>\n",
       "      <th>artist</th>\n",
       "      <th>date</th>\n",
       "      <th>image_url</th>\n",
       "      <th>title</th>\n",
       "    </tr>\n",
       "  </thead>\n",
       "  <tbody>\n",
       "    <tr>\n",
       "      <th>0</th>\n",
       "      <td>Presented by the Institute of Contemporary Pri...</td>\n",
       "      <td>Tom Phillips born 1937</td>\n",
       "      <td>NaN</td>\n",
       "      <td>Tate</td>\n",
       "      <td>Image: 230 x 153 mm</td>\n",
       "      <td>Lithograph on paper</td>\n",
       "      <td>NaN</td>\n",
       "      <td>Ein Deutsches Requiem: After Brahms</td>\n",
       "      <td>P01539</td>\n",
       "      <td>Tom Phillips</td>\n",
       "      <td>1972</td>\n",
       "      <td>https://www.tate.org.uk/art/images/work/P/P01/...</td>\n",
       "      <td>2</td>\n",
       "    </tr>\n",
       "    <tr>\n",
       "      <th>1</th>\n",
       "      <td>Presented by the Institute of Contemporary Pri...</td>\n",
       "      <td>Tom Phillips born 1937</td>\n",
       "      <td>NaN</td>\n",
       "      <td>Tate</td>\n",
       "      <td>Image: 230 x 153 mm</td>\n",
       "      <td>Lithograph on paper</td>\n",
       "      <td>NaN</td>\n",
       "      <td>Ein Deutsches Requiem: After Brahms</td>\n",
       "      <td>P01538</td>\n",
       "      <td>Tom Phillips</td>\n",
       "      <td>1972</td>\n",
       "      <td>https://www.tate.org.uk/art/images/work/P/P01/...</td>\n",
       "      <td>1</td>\n",
       "    </tr>\n",
       "    <tr>\n",
       "      <th>2</th>\n",
       "      <td>Presented by Dr Edward J. Steegmann 1908</td>\n",
       "      <td>Aaron Edwin Penley 1807–1870</td>\n",
       "      <td>NaN</td>\n",
       "      <td>Tate</td>\n",
       "      <td>Support: 254 x 327 mm</td>\n",
       "      <td>Graphite on paper</td>\n",
       "      <td>NaN</td>\n",
       "      <td>NaN</td>\n",
       "      <td>N02391</td>\n",
       "      <td>Aaron Edwin Penley</td>\n",
       "      <td>1842</td>\n",
       "      <td>https://www.tate.org.uk/art/images/work/N/N02/...</td>\n",
       "      <td>Ruins at Torre Wood</td>\n",
       "    </tr>\n",
       "    <tr>\n",
       "      <th>3</th>\n",
       "      <td>Presented by Marlborough Graphics through the ...</td>\n",
       "      <td>Victor Pasmore 1908–1998</td>\n",
       "      <td>NaN</td>\n",
       "      <td>Tate</td>\n",
       "      <td>Image: 391 x 397 mm</td>\n",
       "      <td>Intaglio print on paper</td>\n",
       "      <td>NaN</td>\n",
       "      <td>NaN</td>\n",
       "      <td>P01477</td>\n",
       "      <td>Victor Pasmore</td>\n",
       "      <td>1974</td>\n",
       "      <td>https://www.tate.org.uk/art/images/work/P/P01/...</td>\n",
       "      <td>When the Lute is Broken</td>\n",
       "    </tr>\n",
       "    <tr>\n",
       "      <th>4</th>\n",
       "      <td>Presented by Marlborough Graphics through the ...</td>\n",
       "      <td>Victor Pasmore 1908–1998</td>\n",
       "      <td>NaN</td>\n",
       "      <td>Tate</td>\n",
       "      <td>Image: 379 x 382 mm</td>\n",
       "      <td>Intaglio print on paper</td>\n",
       "      <td>NaN</td>\n",
       "      <td>Word and Image</td>\n",
       "      <td>P01468</td>\n",
       "      <td>Victor Pasmore</td>\n",
       "      <td>1974</td>\n",
       "      <td>https://www.tate.org.uk/art/images/work/P/P01/...</td>\n",
       "      <td>‘The Tear that Falls’</td>\n",
       "    </tr>\n",
       "  </tbody>\n",
       "</table>\n",
       "</div>"
      ],
      "text/plain": [
       "                                         Acquisition  \\\n",
       "0  Presented by the Institute of Contemporary Pri...   \n",
       "1  Presented by the Institute of Contemporary Pri...   \n",
       "2           Presented by Dr Edward J. Steegmann 1908   \n",
       "3  Presented by Marlborough Graphics through the ...   \n",
       "4  Presented by Marlborough Graphics through the ...   \n",
       "\n",
       "                         Artist Artists Collection             Dimensions  \\\n",
       "0        Tom Phillips born 1937     NaN       Tate    Image: 230 x 153 mm   \n",
       "1        Tom Phillips born 1937     NaN       Tate    Image: 230 x 153 mm   \n",
       "2  Aaron Edwin Penley 1807–1870     NaN       Tate  Support: 254 x 327 mm   \n",
       "3      Victor Pasmore 1908–1998     NaN       Tate    Image: 391 x 397 mm   \n",
       "4      Victor Pasmore 1908–1998     NaN       Tate    Image: 379 x 382 mm   \n",
       "\n",
       "                    Medium Original title  \\\n",
       "0      Lithograph on paper            NaN   \n",
       "1      Lithograph on paper            NaN   \n",
       "2        Graphite on paper            NaN   \n",
       "3  Intaglio print on paper            NaN   \n",
       "4  Intaglio print on paper            NaN   \n",
       "\n",
       "                               Part of Reference              artist  date  \\\n",
       "0  Ein Deutsches Requiem: After Brahms    P01539        Tom Phillips  1972   \n",
       "1  Ein Deutsches Requiem: After Brahms    P01538        Tom Phillips  1972   \n",
       "2                                  NaN    N02391  Aaron Edwin Penley  1842   \n",
       "3                                  NaN    P01477      Victor Pasmore  1974   \n",
       "4                       Word and Image    P01468      Victor Pasmore  1974   \n",
       "\n",
       "                                           image_url                    title  \n",
       "0  https://www.tate.org.uk/art/images/work/P/P01/...                        2  \n",
       "1  https://www.tate.org.uk/art/images/work/P/P01/...                        1  \n",
       "2  https://www.tate.org.uk/art/images/work/N/N02/...      Ruins at Torre Wood  \n",
       "3  https://www.tate.org.uk/art/images/work/P/P01/...  When the Lute is Broken  \n",
       "4  https://www.tate.org.uk/art/images/work/P/P01/...    ‘The Tear that Falls’  "
      ]
     },
     "execution_count": 30,
     "metadata": {},
     "output_type": "execute_result"
    }
   ],
   "source": [
    "tate.head()"
   ]
  },
  {
   "cell_type": "code",
   "execution_count": 31,
   "metadata": {
    "ExecuteTime": {
     "end_time": "2019-03-27T20:31:29.606896Z",
     "start_time": "2019-03-27T20:31:29.457779Z"
    }
   },
   "outputs": [],
   "source": [
    "tate.rename(columns={'Reference': 'id', 'Medium': 'medium'}, inplace=True)\n",
    "tate['page_url'] = ''\n",
    "tate['id'] = 'tate_' + tate['id'].astype(str).str.lower()\n",
    "tate['source'] = 'tate'"
   ]
  },
  {
   "cell_type": "code",
   "execution_count": 32,
   "metadata": {
    "ExecuteTime": {
     "end_time": "2019-03-27T20:31:29.771382Z",
     "start_time": "2019-03-27T20:31:29.609853Z"
    }
   },
   "outputs": [],
   "source": [
    "tate = tate[['id', 'artist', 'title', 'date', 'medium', 'source', 'page_url', 'image_url']]"
   ]
  },
  {
   "cell_type": "code",
   "execution_count": 33,
   "metadata": {
    "ExecuteTime": {
     "end_time": "2019-03-27T20:31:29.815258Z",
     "start_time": "2019-03-27T20:31:29.774096Z"
    }
   },
   "outputs": [
    {
     "data": {
      "text/html": [
       "<div>\n",
       "<style scoped>\n",
       "    .dataframe tbody tr th:only-of-type {\n",
       "        vertical-align: middle;\n",
       "    }\n",
       "\n",
       "    .dataframe tbody tr th {\n",
       "        vertical-align: top;\n",
       "    }\n",
       "\n",
       "    .dataframe thead th {\n",
       "        text-align: right;\n",
       "    }\n",
       "</style>\n",
       "<table border=\"1\" class=\"dataframe\">\n",
       "  <thead>\n",
       "    <tr style=\"text-align: right;\">\n",
       "      <th></th>\n",
       "      <th>id</th>\n",
       "      <th>artist</th>\n",
       "      <th>title</th>\n",
       "      <th>date</th>\n",
       "      <th>medium</th>\n",
       "      <th>source</th>\n",
       "      <th>page_url</th>\n",
       "      <th>image_url</th>\n",
       "    </tr>\n",
       "  </thead>\n",
       "  <tbody>\n",
       "    <tr>\n",
       "      <th>0</th>\n",
       "      <td>tate_p01539</td>\n",
       "      <td>Tom Phillips</td>\n",
       "      <td>2</td>\n",
       "      <td>1972</td>\n",
       "      <td>Lithograph on paper</td>\n",
       "      <td>tate</td>\n",
       "      <td></td>\n",
       "      <td>https://www.tate.org.uk/art/images/work/P/P01/...</td>\n",
       "    </tr>\n",
       "    <tr>\n",
       "      <th>1</th>\n",
       "      <td>tate_p01538</td>\n",
       "      <td>Tom Phillips</td>\n",
       "      <td>1</td>\n",
       "      <td>1972</td>\n",
       "      <td>Lithograph on paper</td>\n",
       "      <td>tate</td>\n",
       "      <td></td>\n",
       "      <td>https://www.tate.org.uk/art/images/work/P/P01/...</td>\n",
       "    </tr>\n",
       "    <tr>\n",
       "      <th>2</th>\n",
       "      <td>tate_n02391</td>\n",
       "      <td>Aaron Edwin Penley</td>\n",
       "      <td>Ruins at Torre Wood</td>\n",
       "      <td>1842</td>\n",
       "      <td>Graphite on paper</td>\n",
       "      <td>tate</td>\n",
       "      <td></td>\n",
       "      <td>https://www.tate.org.uk/art/images/work/N/N02/...</td>\n",
       "    </tr>\n",
       "    <tr>\n",
       "      <th>3</th>\n",
       "      <td>tate_p01477</td>\n",
       "      <td>Victor Pasmore</td>\n",
       "      <td>When the Lute is Broken</td>\n",
       "      <td>1974</td>\n",
       "      <td>Intaglio print on paper</td>\n",
       "      <td>tate</td>\n",
       "      <td></td>\n",
       "      <td>https://www.tate.org.uk/art/images/work/P/P01/...</td>\n",
       "    </tr>\n",
       "    <tr>\n",
       "      <th>4</th>\n",
       "      <td>tate_p01468</td>\n",
       "      <td>Victor Pasmore</td>\n",
       "      <td>‘The Tear that Falls’</td>\n",
       "      <td>1974</td>\n",
       "      <td>Intaglio print on paper</td>\n",
       "      <td>tate</td>\n",
       "      <td></td>\n",
       "      <td>https://www.tate.org.uk/art/images/work/P/P01/...</td>\n",
       "    </tr>\n",
       "  </tbody>\n",
       "</table>\n",
       "</div>"
      ],
      "text/plain": [
       "            id              artist                    title  date  \\\n",
       "0  tate_p01539        Tom Phillips                        2  1972   \n",
       "1  tate_p01538        Tom Phillips                        1  1972   \n",
       "2  tate_n02391  Aaron Edwin Penley      Ruins at Torre Wood  1842   \n",
       "3  tate_p01477      Victor Pasmore  When the Lute is Broken  1974   \n",
       "4  tate_p01468      Victor Pasmore    ‘The Tear that Falls’  1974   \n",
       "\n",
       "                    medium source page_url  \\\n",
       "0      Lithograph on paper   tate            \n",
       "1      Lithograph on paper   tate            \n",
       "2        Graphite on paper   tate            \n",
       "3  Intaglio print on paper   tate            \n",
       "4  Intaglio print on paper   tate            \n",
       "\n",
       "                                           image_url  \n",
       "0  https://www.tate.org.uk/art/images/work/P/P01/...  \n",
       "1  https://www.tate.org.uk/art/images/work/P/P01/...  \n",
       "2  https://www.tate.org.uk/art/images/work/N/N02/...  \n",
       "3  https://www.tate.org.uk/art/images/work/P/P01/...  \n",
       "4  https://www.tate.org.uk/art/images/work/P/P01/...  "
      ]
     },
     "execution_count": 33,
     "metadata": {},
     "output_type": "execute_result"
    }
   ],
   "source": [
    "tate.head()"
   ]
  },
  {
   "cell_type": "code",
   "execution_count": 34,
   "metadata": {
    "ExecuteTime": {
     "end_time": "2019-03-27T20:31:29.847969Z",
     "start_time": "2019-03-27T20:31:29.824097Z"
    }
   },
   "outputs": [
    {
     "data": {
      "text/plain": [
       "count                                                    10\n",
       "unique                                                   10\n",
       "top       https://www.tate.org.uk/art/images/work/P/P01/...\n",
       "freq                                                      1\n",
       "Name: image_url, dtype: object"
      ]
     },
     "execution_count": 34,
     "metadata": {},
     "output_type": "execute_result"
    }
   ],
   "source": [
    "tate.image_url.describe()"
   ]
  },
  {
   "cell_type": "code",
   "execution_count": 35,
   "metadata": {
    "ExecuteTime": {
     "end_time": "2019-03-27T20:31:30.082392Z",
     "start_time": "2019-03-27T20:31:29.850149Z"
    }
   },
   "outputs": [],
   "source": [
    "pickle.dump(tate, open('../data/all/tate.pickle', 'wb'))"
   ]
  },
  {
   "cell_type": "markdown",
   "metadata": {},
   "source": [
    "### <a id=\"2g\"></a>2g. Whitney"
   ]
  },
  {
   "cell_type": "code",
   "execution_count": 36,
   "metadata": {
    "ExecuteTime": {
     "end_time": "2019-03-27T20:31:30.397853Z",
     "start_time": "2019-03-27T20:31:30.084696Z"
    }
   },
   "outputs": [],
   "source": [
    "whitney = pd.DataFrame(pickle.load(open('../data/whitney/whitney.pickle', 'rb')))"
   ]
  },
  {
   "cell_type": "code",
   "execution_count": 37,
   "metadata": {
    "ExecuteTime": {
     "end_time": "2019-03-27T20:31:30.432158Z",
     "start_time": "2019-03-27T20:31:30.400730Z"
    }
   },
   "outputs": [
    {
     "data": {
      "text/html": [
       "<div>\n",
       "<style scoped>\n",
       "    .dataframe tbody tr th:only-of-type {\n",
       "        vertical-align: middle;\n",
       "    }\n",
       "\n",
       "    .dataframe tbody tr th {\n",
       "        vertical-align: top;\n",
       "    }\n",
       "\n",
       "    .dataframe thead th {\n",
       "        text-align: right;\n",
       "    }\n",
       "</style>\n",
       "<table border=\"1\" class=\"dataframe\">\n",
       "  <thead>\n",
       "    <tr style=\"text-align: right;\">\n",
       "      <th></th>\n",
       "      <th>Accession number</th>\n",
       "      <th>Artist</th>\n",
       "      <th>Artists</th>\n",
       "      <th>Classification</th>\n",
       "      <th>Credit line</th>\n",
       "      <th>Date</th>\n",
       "      <th>Dimensions</th>\n",
       "      <th>Edition information</th>\n",
       "      <th>Medium</th>\n",
       "      <th>Portfolio</th>\n",
       "      <th>Publication information</th>\n",
       "      <th>Rights and reproductions information</th>\n",
       "      <th>Series</th>\n",
       "      <th>Title</th>\n",
       "      <th>artwork_uid</th>\n",
       "      <th>image_url</th>\n",
       "    </tr>\n",
       "  </thead>\n",
       "  <tbody>\n",
       "    <tr>\n",
       "      <th>0</th>\n",
       "      <td>70.1605.57</td>\n",
       "      <td>Edward Hopper</td>\n",
       "      <td>NaN</td>\n",
       "      <td>Drawings</td>\n",
       "      <td>Josephine N. Hopper Bequest</td>\n",
       "      <td>1899–1906</td>\n",
       "      <td>Sheet (Irregular): 11 5/8 × 7 5/16 in. (29.5 ×...</td>\n",
       "      <td>NaN</td>\n",
       "      <td>Pen and ink and graphite pencil on paper</td>\n",
       "      <td>NaN</td>\n",
       "      <td>NaN</td>\n",
       "      <td>© Heirs of Josephine N. Hopper, licensed by th...</td>\n",
       "      <td>NaN</td>\n",
       "      <td>Santa Claus Up To Date</td>\n",
       "      <td>31577</td>\n",
       "      <td>http://collectionimages.whitney.org/standard/8...</td>\n",
       "    </tr>\n",
       "    <tr>\n",
       "      <th>1</th>\n",
       "      <td>97.136.1</td>\n",
       "      <td>Ralph Gibson</td>\n",
       "      <td>NaN</td>\n",
       "      <td>Photographs</td>\n",
       "      <td>Gift of Mr. and Mrs. Raymond W. Merritt</td>\n",
       "      <td>1971</td>\n",
       "      <td>Sheet: 13 15/16 × 11 3/16 in. (35.4 × 28.4 cm)...</td>\n",
       "      <td>2/25</td>\n",
       "      <td>Gelatin silver print</td>\n",
       "      <td>NaN</td>\n",
       "      <td>NaN</td>\n",
       "      <td>© artist or artist’s estate</td>\n",
       "      <td>Deja-Vu</td>\n",
       "      <td>Untitled</td>\n",
       "      <td>9437</td>\n",
       "      <td>http://collectionimages.whitney.org/standard/1...</td>\n",
       "    </tr>\n",
       "    <tr>\n",
       "      <th>2</th>\n",
       "      <td>93.89</td>\n",
       "      <td>Jane Hammond</td>\n",
       "      <td>NaN</td>\n",
       "      <td>Prints</td>\n",
       "      <td>Purchase, with funds from the Print Committee</td>\n",
       "      <td>1992–93</td>\n",
       "      <td>Sheet (Irregular, Sight): 78 1/2 × 51 in. (199...</td>\n",
       "      <td>9/32 | 4 APs, 6 PPs</td>\n",
       "      <td>Etching, engraving, drypoint, screenprint, lit...</td>\n",
       "      <td>NaN</td>\n",
       "      <td>Printed and published by Universal Limited Art...</td>\n",
       "      <td>© artist or artist’s estate</td>\n",
       "      <td>NaN</td>\n",
       "      <td>Full House</td>\n",
       "      <td>8430</td>\n",
       "      <td>http://collectionimages.whitney.org/standard/1...</td>\n",
       "    </tr>\n",
       "    <tr>\n",
       "      <th>3</th>\n",
       "      <td>78.94</td>\n",
       "      <td>Harry Sternberg</td>\n",
       "      <td>NaN</td>\n",
       "      <td>Prints</td>\n",
       "      <td>Gift of Mr. and Mrs. Michael H. Irving</td>\n",
       "      <td>1929</td>\n",
       "      <td>Sheet: 11 1/16 × 13 15/16 in. (28.1 × 35.4 cm)...</td>\n",
       "      <td>Edition of 30</td>\n",
       "      <td>Etching and aquatint</td>\n",
       "      <td>NaN</td>\n",
       "      <td>Printed by Harry Sternberg</td>\n",
       "      <td>© artist or artist’s estate</td>\n",
       "      <td>Circus</td>\n",
       "      <td>Circus #4: The Rings</td>\n",
       "      <td>5128</td>\n",
       "      <td>http://collectionimages.whitney.org/standard/1...</td>\n",
       "    </tr>\n",
       "    <tr>\n",
       "      <th>4</th>\n",
       "      <td>96.117.70</td>\n",
       "      <td>Harold Edgerton</td>\n",
       "      <td>NaN</td>\n",
       "      <td>Photographs</td>\n",
       "      <td>Gift of The Harold and Esther Edgerton Family ...</td>\n",
       "      <td>1963</td>\n",
       "      <td>Sheet: 8 1/16 × 10 1/16 in. (20.5 × 25.6 cm) I...</td>\n",
       "      <td>NaN</td>\n",
       "      <td>Chromogenic print</td>\n",
       "      <td>NaN</td>\n",
       "      <td>NaN</td>\n",
       "      <td>© artist or artist’s estate</td>\n",
       "      <td>NaN</td>\n",
       "      <td>Untitled (Moscow Circus)</td>\n",
       "      <td>10871</td>\n",
       "      <td>http://collectionimages.whitney.org/standard/1...</td>\n",
       "    </tr>\n",
       "  </tbody>\n",
       "</table>\n",
       "</div>"
      ],
      "text/plain": [
       "  Accession number           Artist Artists Classification  \\\n",
       "0       70.1605.57    Edward Hopper     NaN       Drawings   \n",
       "1         97.136.1     Ralph Gibson     NaN    Photographs   \n",
       "2            93.89     Jane Hammond     NaN         Prints   \n",
       "3            78.94  Harry Sternberg     NaN         Prints   \n",
       "4        96.117.70  Harold Edgerton     NaN    Photographs   \n",
       "\n",
       "                                         Credit line       Date  \\\n",
       "0                        Josephine N. Hopper Bequest  1899–1906   \n",
       "1            Gift of Mr. and Mrs. Raymond W. Merritt       1971   \n",
       "2      Purchase, with funds from the Print Committee    1992–93   \n",
       "3             Gift of Mr. and Mrs. Michael H. Irving       1929   \n",
       "4  Gift of The Harold and Esther Edgerton Family ...       1963   \n",
       "\n",
       "                                          Dimensions  Edition information  \\\n",
       "0  Sheet (Irregular): 11 5/8 × 7 5/16 in. (29.5 ×...                  NaN   \n",
       "1  Sheet: 13 15/16 × 11 3/16 in. (35.4 × 28.4 cm)...                 2/25   \n",
       "2  Sheet (Irregular, Sight): 78 1/2 × 51 in. (199...  9/32 | 4 APs, 6 PPs   \n",
       "3  Sheet: 11 1/16 × 13 15/16 in. (28.1 × 35.4 cm)...        Edition of 30   \n",
       "4  Sheet: 8 1/16 × 10 1/16 in. (20.5 × 25.6 cm) I...                  NaN   \n",
       "\n",
       "                                              Medium Portfolio  \\\n",
       "0           Pen and ink and graphite pencil on paper       NaN   \n",
       "1                               Gelatin silver print       NaN   \n",
       "2  Etching, engraving, drypoint, screenprint, lit...       NaN   \n",
       "3                               Etching and aquatint       NaN   \n",
       "4                                  Chromogenic print       NaN   \n",
       "\n",
       "                             Publication information  \\\n",
       "0                                                NaN   \n",
       "1                                                NaN   \n",
       "2  Printed and published by Universal Limited Art...   \n",
       "3                         Printed by Harry Sternberg   \n",
       "4                                                NaN   \n",
       "\n",
       "                Rights and reproductions information   Series  \\\n",
       "0  © Heirs of Josephine N. Hopper, licensed by th...      NaN   \n",
       "1                        © artist or artist’s estate  Deja-Vu   \n",
       "2                        © artist or artist’s estate      NaN   \n",
       "3                        © artist or artist’s estate   Circus   \n",
       "4                        © artist or artist’s estate      NaN   \n",
       "\n",
       "                      Title  artwork_uid  \\\n",
       "0    Santa Claus Up To Date        31577   \n",
       "1                  Untitled         9437   \n",
       "2                Full House         8430   \n",
       "3      Circus #4: The Rings         5128   \n",
       "4  Untitled (Moscow Circus)        10871   \n",
       "\n",
       "                                           image_url  \n",
       "0  http://collectionimages.whitney.org/standard/8...  \n",
       "1  http://collectionimages.whitney.org/standard/1...  \n",
       "2  http://collectionimages.whitney.org/standard/1...  \n",
       "3  http://collectionimages.whitney.org/standard/1...  \n",
       "4  http://collectionimages.whitney.org/standard/1...  "
      ]
     },
     "execution_count": 37,
     "metadata": {},
     "output_type": "execute_result"
    }
   ],
   "source": [
    "whitney.head()"
   ]
  },
  {
   "cell_type": "code",
   "execution_count": 38,
   "metadata": {
    "ExecuteTime": {
     "end_time": "2019-03-27T20:31:30.531848Z",
     "start_time": "2019-03-27T20:31:30.435086Z"
    }
   },
   "outputs": [],
   "source": [
    "whitney.rename(columns={'artwork_uid': 'id', 'Artist': 'artist', 'Date': 'date', 'Medium': 'medium', 'Title': 'title'}, inplace=True)\n",
    "whitney['page_url'] = 'https://whitney.org/collection/works/' + whitney['id'].astype(str)\n",
    "whitney['id'] = 'whitney_' + whitney['id'].astype(str).str.lower()\n",
    "whitney['source'] = 'whitney'"
   ]
  },
  {
   "cell_type": "code",
   "execution_count": 39,
   "metadata": {
    "ExecuteTime": {
     "end_time": "2019-03-27T20:31:30.631623Z",
     "start_time": "2019-03-27T20:31:30.534267Z"
    }
   },
   "outputs": [],
   "source": [
    "whitney = whitney[['id', 'artist', 'title', 'date', 'medium', 'source', 'page_url', 'image_url']]"
   ]
  },
  {
   "cell_type": "code",
   "execution_count": 40,
   "metadata": {
    "ExecuteTime": {
     "end_time": "2019-03-27T20:31:30.644708Z",
     "start_time": "2019-03-27T20:31:30.633162Z"
    }
   },
   "outputs": [
    {
     "data": {
      "text/html": [
       "<div>\n",
       "<style scoped>\n",
       "    .dataframe tbody tr th:only-of-type {\n",
       "        vertical-align: middle;\n",
       "    }\n",
       "\n",
       "    .dataframe tbody tr th {\n",
       "        vertical-align: top;\n",
       "    }\n",
       "\n",
       "    .dataframe thead th {\n",
       "        text-align: right;\n",
       "    }\n",
       "</style>\n",
       "<table border=\"1\" class=\"dataframe\">\n",
       "  <thead>\n",
       "    <tr style=\"text-align: right;\">\n",
       "      <th></th>\n",
       "      <th>id</th>\n",
       "      <th>artist</th>\n",
       "      <th>title</th>\n",
       "      <th>date</th>\n",
       "      <th>medium</th>\n",
       "      <th>source</th>\n",
       "      <th>page_url</th>\n",
       "      <th>image_url</th>\n",
       "    </tr>\n",
       "  </thead>\n",
       "  <tbody>\n",
       "    <tr>\n",
       "      <th>0</th>\n",
       "      <td>whitney_31577</td>\n",
       "      <td>Edward Hopper</td>\n",
       "      <td>Santa Claus Up To Date</td>\n",
       "      <td>1899–1906</td>\n",
       "      <td>Pen and ink and graphite pencil on paper</td>\n",
       "      <td>whitney</td>\n",
       "      <td>https://whitney.org/collection/works/31577</td>\n",
       "      <td>http://collectionimages.whitney.org/standard/8...</td>\n",
       "    </tr>\n",
       "    <tr>\n",
       "      <th>1</th>\n",
       "      <td>whitney_9437</td>\n",
       "      <td>Ralph Gibson</td>\n",
       "      <td>Untitled</td>\n",
       "      <td>1971</td>\n",
       "      <td>Gelatin silver print</td>\n",
       "      <td>whitney</td>\n",
       "      <td>https://whitney.org/collection/works/9437</td>\n",
       "      <td>http://collectionimages.whitney.org/standard/1...</td>\n",
       "    </tr>\n",
       "    <tr>\n",
       "      <th>2</th>\n",
       "      <td>whitney_8430</td>\n",
       "      <td>Jane Hammond</td>\n",
       "      <td>Full House</td>\n",
       "      <td>1992–93</td>\n",
       "      <td>Etching, engraving, drypoint, screenprint, lit...</td>\n",
       "      <td>whitney</td>\n",
       "      <td>https://whitney.org/collection/works/8430</td>\n",
       "      <td>http://collectionimages.whitney.org/standard/1...</td>\n",
       "    </tr>\n",
       "    <tr>\n",
       "      <th>3</th>\n",
       "      <td>whitney_5128</td>\n",
       "      <td>Harry Sternberg</td>\n",
       "      <td>Circus #4: The Rings</td>\n",
       "      <td>1929</td>\n",
       "      <td>Etching and aquatint</td>\n",
       "      <td>whitney</td>\n",
       "      <td>https://whitney.org/collection/works/5128</td>\n",
       "      <td>http://collectionimages.whitney.org/standard/1...</td>\n",
       "    </tr>\n",
       "    <tr>\n",
       "      <th>4</th>\n",
       "      <td>whitney_10871</td>\n",
       "      <td>Harold Edgerton</td>\n",
       "      <td>Untitled (Moscow Circus)</td>\n",
       "      <td>1963</td>\n",
       "      <td>Chromogenic print</td>\n",
       "      <td>whitney</td>\n",
       "      <td>https://whitney.org/collection/works/10871</td>\n",
       "      <td>http://collectionimages.whitney.org/standard/1...</td>\n",
       "    </tr>\n",
       "  </tbody>\n",
       "</table>\n",
       "</div>"
      ],
      "text/plain": [
       "              id           artist                     title       date  \\\n",
       "0  whitney_31577    Edward Hopper    Santa Claus Up To Date  1899–1906   \n",
       "1   whitney_9437     Ralph Gibson                  Untitled       1971   \n",
       "2   whitney_8430     Jane Hammond                Full House    1992–93   \n",
       "3   whitney_5128  Harry Sternberg      Circus #4: The Rings       1929   \n",
       "4  whitney_10871  Harold Edgerton  Untitled (Moscow Circus)       1963   \n",
       "\n",
       "                                              medium   source  \\\n",
       "0           Pen and ink and graphite pencil on paper  whitney   \n",
       "1                               Gelatin silver print  whitney   \n",
       "2  Etching, engraving, drypoint, screenprint, lit...  whitney   \n",
       "3                               Etching and aquatint  whitney   \n",
       "4                                  Chromogenic print  whitney   \n",
       "\n",
       "                                     page_url  \\\n",
       "0  https://whitney.org/collection/works/31577   \n",
       "1   https://whitney.org/collection/works/9437   \n",
       "2   https://whitney.org/collection/works/8430   \n",
       "3   https://whitney.org/collection/works/5128   \n",
       "4  https://whitney.org/collection/works/10871   \n",
       "\n",
       "                                           image_url  \n",
       "0  http://collectionimages.whitney.org/standard/8...  \n",
       "1  http://collectionimages.whitney.org/standard/1...  \n",
       "2  http://collectionimages.whitney.org/standard/1...  \n",
       "3  http://collectionimages.whitney.org/standard/1...  \n",
       "4  http://collectionimages.whitney.org/standard/1...  "
      ]
     },
     "execution_count": 40,
     "metadata": {},
     "output_type": "execute_result"
    }
   ],
   "source": [
    "whitney.head()"
   ]
  },
  {
   "cell_type": "code",
   "execution_count": 41,
   "metadata": {
    "ExecuteTime": {
     "end_time": "2019-03-27T20:31:30.724156Z",
     "start_time": "2019-03-27T20:31:30.647611Z"
    }
   },
   "outputs": [],
   "source": [
    "pickle.dump(whitney, open('../data/all/whitney.pickle', 'wb'))"
   ]
  },
  {
   "cell_type": "markdown",
   "metadata": {},
   "source": [
    "### <a id=\"2h\"></a>2h. Merge all"
   ]
  },
  {
   "cell_type": "code",
   "execution_count": 42,
   "metadata": {
    "ExecuteTime": {
     "end_time": "2019-03-27T20:31:30.835288Z",
     "start_time": "2019-03-27T20:31:30.726856Z"
    }
   },
   "outputs": [],
   "source": [
    "corpus_metadata = None\n",
    "corpus_metadata = pd.concat([artspace, gugg, moma, nga, tate, whitney])"
   ]
  },
  {
   "cell_type": "code",
   "execution_count": 43,
   "metadata": {
    "ExecuteTime": {
     "end_time": "2019-03-27T20:31:30.840994Z",
     "start_time": "2019-03-27T20:31:30.836857Z"
    }
   },
   "outputs": [
    {
     "data": {
      "text/plain": [
       "(269379, 8)"
      ]
     },
     "execution_count": 43,
     "metadata": {},
     "output_type": "execute_result"
    }
   ],
   "source": [
    "corpus_metadata.shape"
   ]
  },
  {
   "cell_type": "code",
   "execution_count": 44,
   "metadata": {
    "ExecuteTime": {
     "end_time": "2019-03-27T20:31:30.885738Z",
     "start_time": "2019-03-27T20:31:30.843512Z"
    }
   },
   "outputs": [
    {
     "data": {
      "text/plain": [
       "nga         95184\n",
       "moma        68565\n",
       "tate        64620\n",
       "whitney     23335\n",
       "artspace    15774\n",
       "gugg         1901\n",
       "Name: source, dtype: int64"
      ]
     },
     "execution_count": 44,
     "metadata": {},
     "output_type": "execute_result"
    }
   ],
   "source": [
    "corpus_metadata.source.value_counts()"
   ]
  },
  {
   "cell_type": "code",
   "execution_count": 45,
   "metadata": {
    "ExecuteTime": {
     "end_time": "2019-03-27T20:31:32.686885Z",
     "start_time": "2019-03-27T20:31:30.888758Z"
    }
   },
   "outputs": [],
   "source": [
    "pickle.dump(corpus_metadata, open('../data/all/corpus_metadata.pickle', 'wb'))\n",
    "pickle.dump(corpus_metadata, open('../webapp/corpus_metadata.pickle', 'wb'), protocol=2)"
   ]
  },
  {
   "cell_type": "code",
   "execution_count": 46,
   "metadata": {
    "ExecuteTime": {
     "end_time": "2019-03-27T20:31:33.069373Z",
     "start_time": "2019-03-27T20:31:32.688378Z"
    }
   },
   "outputs": [
    {
     "data": {
      "text/html": [
       "<div>\n",
       "<style scoped>\n",
       "    .dataframe tbody tr th:only-of-type {\n",
       "        vertical-align: middle;\n",
       "    }\n",
       "\n",
       "    .dataframe tbody tr th {\n",
       "        vertical-align: top;\n",
       "    }\n",
       "\n",
       "    .dataframe thead th {\n",
       "        text-align: right;\n",
       "    }\n",
       "</style>\n",
       "<table border=\"1\" class=\"dataframe\">\n",
       "  <thead>\n",
       "    <tr style=\"text-align: right;\">\n",
       "      <th></th>\n",
       "      <th>id</th>\n",
       "      <th>artist</th>\n",
       "      <th>title</th>\n",
       "      <th>date</th>\n",
       "      <th>medium</th>\n",
       "      <th>source</th>\n",
       "      <th>page_url</th>\n",
       "      <th>image_url</th>\n",
       "    </tr>\n",
       "  </thead>\n",
       "  <tbody>\n",
       "    <tr>\n",
       "      <th>0</th>\n",
       "      <td>artspace_35537</td>\n",
       "      <td>Lola Soloveychik</td>\n",
       "      <td>The Dead Sea</td>\n",
       "      <td>2015</td>\n",
       "      <td>Photograph</td>\n",
       "      <td>artspace</td>\n",
       "      <td>https://www.artspace.com/lola-soloveychik/the-...</td>\n",
       "      <td>https://d5wt70d4gnm1t.cloudfront.net/media/a-s...</td>\n",
       "    </tr>\n",
       "    <tr>\n",
       "      <th>1</th>\n",
       "      <td>artspace_35538</td>\n",
       "      <td>Lola Soloveychik</td>\n",
       "      <td>California Sun</td>\n",
       "      <td>2013</td>\n",
       "      <td>Photograph</td>\n",
       "      <td>artspace</td>\n",
       "      <td>https://www.artspace.com/lola-soloveychik/cali...</td>\n",
       "      <td>https://d5wt70d4gnm1t.cloudfront.net/media/a-s...</td>\n",
       "    </tr>\n",
       "    <tr>\n",
       "      <th>2</th>\n",
       "      <td>artspace_53265</td>\n",
       "      <td>Mimmo Paladino</td>\n",
       "      <td>Horse and Knight</td>\n",
       "      <td>2008</td>\n",
       "      <td>Print</td>\n",
       "      <td>artspace</td>\n",
       "      <td>https://www.artspace.com/mimmo_paladino/horse-...</td>\n",
       "      <td>https://d5wt70d4gnm1t.cloudfront.net/media/a-s...</td>\n",
       "    </tr>\n",
       "    <tr>\n",
       "      <th>3</th>\n",
       "      <td>artspace_32803</td>\n",
       "      <td>Mimmo Paladino</td>\n",
       "      <td>Gli animali avanzano</td>\n",
       "      <td>1982</td>\n",
       "      <td>Print</td>\n",
       "      <td>artspace</td>\n",
       "      <td>https://www.artspace.com/mimmo_paladino/gli-an...</td>\n",
       "      <td>https://d5wt70d4gnm1t.cloudfront.net/media/a-s...</td>\n",
       "    </tr>\n",
       "    <tr>\n",
       "      <th>4</th>\n",
       "      <td>artspace_33077</td>\n",
       "      <td>Mimmo Paladino</td>\n",
       "      <td>Il Sognatore</td>\n",
       "      <td>1982</td>\n",
       "      <td>Print</td>\n",
       "      <td>artspace</td>\n",
       "      <td>https://www.artspace.com/mimmo_paladino/il-sog...</td>\n",
       "      <td>https://d5wt70d4gnm1t.cloudfront.net/media/a-s...</td>\n",
       "    </tr>\n",
       "  </tbody>\n",
       "</table>\n",
       "</div>"
      ],
      "text/plain": [
       "               id            artist                 title  date      medium  \\\n",
       "0  artspace_35537  Lola Soloveychik          The Dead Sea  2015  Photograph   \n",
       "1  artspace_35538  Lola Soloveychik        California Sun  2013  Photograph   \n",
       "2  artspace_53265    Mimmo Paladino      Horse and Knight  2008       Print   \n",
       "3  artspace_32803    Mimmo Paladino  Gli animali avanzano  1982       Print   \n",
       "4  artspace_33077    Mimmo Paladino          Il Sognatore  1982       Print   \n",
       "\n",
       "     source                                           page_url  \\\n",
       "0  artspace  https://www.artspace.com/lola-soloveychik/the-...   \n",
       "1  artspace  https://www.artspace.com/lola-soloveychik/cali...   \n",
       "2  artspace  https://www.artspace.com/mimmo_paladino/horse-...   \n",
       "3  artspace  https://www.artspace.com/mimmo_paladino/gli-an...   \n",
       "4  artspace  https://www.artspace.com/mimmo_paladino/il-sog...   \n",
       "\n",
       "                                           image_url  \n",
       "0  https://d5wt70d4gnm1t.cloudfront.net/media/a-s...  \n",
       "1  https://d5wt70d4gnm1t.cloudfront.net/media/a-s...  \n",
       "2  https://d5wt70d4gnm1t.cloudfront.net/media/a-s...  \n",
       "3  https://d5wt70d4gnm1t.cloudfront.net/media/a-s...  \n",
       "4  https://d5wt70d4gnm1t.cloudfront.net/media/a-s...  "
      ]
     },
     "execution_count": 46,
     "metadata": {},
     "output_type": "execute_result"
    }
   ],
   "source": [
    "corpus_metadata = corpus_metadata.reset_index(drop=True)\n",
    "corpus_metadata.head()"
   ]
  },
  {
   "cell_type": "code",
   "execution_count": 47,
   "metadata": {
    "ExecuteTime": {
     "end_time": "2019-03-27T20:31:33.902137Z",
     "start_time": "2019-03-27T20:31:33.072289Z"
    }
   },
   "outputs": [],
   "source": [
    "corpus_metadata.to_json('../webapp/corpus_metadata.json')"
   ]
  },
  {
   "cell_type": "code",
   "execution_count": 48,
   "metadata": {
    "ExecuteTime": {
     "end_time": "2019-03-27T20:31:34.923972Z",
     "start_time": "2019-03-27T20:31:33.968970Z"
    }
   },
   "outputs": [],
   "source": [
    "corpus_metadata.to_json('../data/autoencoder/models/corpus_metadata.json')"
   ]
  },
  {
   "cell_type": "code",
   "execution_count": 49,
   "metadata": {
    "ExecuteTime": {
     "end_time": "2019-03-27T20:31:35.413262Z",
     "start_time": "2019-03-27T20:31:34.925648Z"
    }
   },
   "outputs": [
    {
     "data": {
      "text/plain": [
       "count                                                204759\n",
       "unique                                               204759\n",
       "top       https://www.nga.gov/collection/art-object-page...\n",
       "freq                                                      1\n",
       "Name: page_url, dtype: object"
      ]
     },
     "execution_count": 49,
     "metadata": {},
     "output_type": "execute_result"
    }
   ],
   "source": [
    "corpus_metadata[corpus_metadata['source'] != 'tate']['page_url'].describe()"
   ]
  },
  {
   "cell_type": "code",
   "execution_count": 52,
   "metadata": {
    "ExecuteTime": {
     "end_time": "2019-03-27T20:32:51.378946Z",
     "start_time": "2019-03-27T20:32:51.348592Z"
    }
   },
   "outputs": [
    {
     "data": {
      "text/plain": [
       "86240                c. 1939\n",
       "86241                   1983\n",
       "86242              1987/1989\n",
       "86243                       \n",
       "86244                   1953\n",
       "86245                   1968\n",
       "86246                   1860\n",
       "86247                   1934\n",
       "86248                   1918\n",
       "86249              1935/1942\n",
       "86250                   1973\n",
       "86251                       \n",
       "86252                   1975\n",
       "86253                   1937\n",
       "86254                c. 1930\n",
       "86255                   1950\n",
       "86256                   1773\n",
       "86257                c. 1939\n",
       "86258                   1990\n",
       "86259                   1877\n",
       "86260                       \n",
       "86261           c. 1624/1625\n",
       "86262                  1930s\n",
       "86263                c. 1937\n",
       "86264           16th century\n",
       "86265                   1934\n",
       "86266                   1929\n",
       "86267                   1788\n",
       "86268                c. 1500\n",
       "86269                c. 1939\n",
       "                 ...        \n",
       "181394               c. 1920\n",
       "181395                  2004\n",
       "181396               c. 1936\n",
       "181397               c. 1937\n",
       "181398               c. 1936\n",
       "181399                  1893\n",
       "181400                  1988\n",
       "181401             1927/1930\n",
       "181402    early 18th century\n",
       "181403                  1854\n",
       "181404                  1888\n",
       "181405                  1979\n",
       "181406                      \n",
       "181407                  1977\n",
       "181408               c. 1960\n",
       "181409                  1932\n",
       "181410               c. 1892\n",
       "181411                  1844\n",
       "181412               c. 1940\n",
       "181413                  1651\n",
       "181414                      \n",
       "181415                  1932\n",
       "181416               c. 1939\n",
       "181417               c. 1631\n",
       "181418             1935/1942\n",
       "181419               c. 1617\n",
       "181420                  1974\n",
       "181421                  1964\n",
       "181422                  1927\n",
       "181423               c. 1939\n",
       "Name: date, Length: 95184, dtype: object"
      ]
     },
     "execution_count": 52,
     "metadata": {},
     "output_type": "execute_result"
    }
   ],
   "source": [
    "corpus_metadata['date'][corpus_metadata['source'] == 'nga']"
   ]
  },
  {
   "cell_type": "code",
   "execution_count": null,
   "metadata": {},
   "outputs": [],
   "source": []
  }
 ],
 "metadata": {
  "kernelspec": {
   "display_name": "Python 3",
   "language": "python",
   "name": "python3"
  },
  "language_info": {
   "codemirror_mode": {
    "name": "ipython",
    "version": 3
   },
   "file_extension": ".py",
   "mimetype": "text/x-python",
   "name": "python",
   "nbconvert_exporter": "python",
   "pygments_lexer": "ipython3",
   "version": "3.6.8"
  }
 },
 "nbformat": 4,
 "nbformat_minor": 2
}
