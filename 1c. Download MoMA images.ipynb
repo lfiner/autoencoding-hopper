{
 "cells": [
  {
   "cell_type": "markdown",
   "metadata": {},
   "source": [
    "# <a id=\"top\"></a>Autoencoding Edward Hopper:<br>Using deep learning to recommend art\n",
    "\n",
    "[Larry Finer](mailto:lfiner@gmail.com)  \n",
    "March 2019\n",
    "\n",
    "The goal of this project was to build a model that would take an image of an artwork and compare it visually to a corpus of more than 100,000 artworks from museums and other sources in order to find works that are similar visually. The main steps in the project were:\n",
    "\n",
    "1. <b>Download artwork images and metadata from multiple sites</b> (this file)  \n",
    "2. Combine metadata into a single pandas dataframe  \n",
    "3. Develop a convolutional neural network autoencoder model that adequately reproduces the images\n",
    "4. Extract the narrowest encoded layer and use it to encode the entire corpus as well as a test image; then compare the test image to the entire corpus using a cosine distance measure to find the nearest images\n",
    "\n",
    "<hr>\n",
    "\n",
    "## 1c. Download MoMA images\n",
    "\n",
    "This file downloads the Guggenheim museum's entire online collection of approximately 69,000 images. Relevant metadata for each artwork, including artist, title, date, and medium, are available online [here](https://github.com/MuseumofModernArt/collection/blob/master/Artworks.csv).\n",
    "\n",
    "### Sections\n",
    "1c1. [Imports and setup](#1c1)  \n",
    "1c2. [Download images](#1c2)"
   ]
  },
  {
   "cell_type": "markdown",
   "metadata": {},
   "source": [
    "### <a id=\"top\"></a>1c1. Imports and setup"
   ]
  },
  {
   "cell_type": "code",
   "execution_count": 64,
   "metadata": {
    "ExecuteTime": {
     "end_time": "2019-03-08T22:10:46.885401Z",
     "start_time": "2019-03-08T22:10:46.881754Z"
    }
   },
   "outputs": [],
   "source": [
    "import pandas as pd\n",
    "import random\n",
    "import time\n",
    "import pickle\n",
    "import requests\n",
    "from fake_useragent import UserAgent\n",
    "from itertools import islice\n",
    "from lxml import html\n",
    "from bs4 import BeautifulSoup"
   ]
  },
  {
   "cell_type": "code",
   "execution_count": 65,
   "metadata": {
    "ExecuteTime": {
     "end_time": "2019-03-08T22:10:47.233297Z",
     "start_time": "2019-03-08T22:10:47.228986Z"
    }
   },
   "outputs": [],
   "source": [
    "ua = UserAgent()\n",
    "user_agent = {'User-agent': ua.random}"
   ]
  },
  {
   "cell_type": "markdown",
   "metadata": {},
   "source": [
    "### 1c2. Download images"
   ]
  },
  {
   "cell_type": "code",
   "execution_count": 66,
   "metadata": {
    "ExecuteTime": {
     "end_time": "2019-03-08T22:10:48.734432Z",
     "start_time": "2019-03-08T22:10:47.584894Z"
    }
   },
   "outputs": [],
   "source": [
    "# Read in artwork data\n",
    "moma = pd.read_csv('./data/moma/MoMA artworks.csv')"
   ]
  },
  {
   "cell_type": "code",
   "execution_count": 67,
   "metadata": {
    "ExecuteTime": {
     "end_time": "2019-03-08T22:10:49.176927Z",
     "start_time": "2019-03-08T22:10:49.172155Z"
    }
   },
   "outputs": [
    {
     "data": {
      "text/plain": [
       "(136759, 29)"
      ]
     },
     "execution_count": 67,
     "metadata": {},
     "output_type": "execute_result"
    }
   ],
   "source": [
    "moma.shape"
   ]
  },
  {
   "cell_type": "code",
   "execution_count": 68,
   "metadata": {
    "ExecuteTime": {
     "end_time": "2019-03-08T22:10:49.762250Z",
     "start_time": "2019-03-08T22:10:49.756626Z"
    }
   },
   "outputs": [
    {
     "data": {
      "text/plain": [
       "Index(['ObjectID', 'URL', 'ThumbnailURL', 'Title', 'Artist', 'ConstituentID',\n",
       "       'ArtistBio', 'Nationality', 'BeginDate', 'EndDate', 'Gender', 'Date',\n",
       "       'Medium', 'Dimensions', 'CreditLine', 'AccessionNumber',\n",
       "       'Classification', 'Department', 'DateAcquired', 'Cataloged',\n",
       "       'Circumference (cm)', 'Depth (cm)', 'Diameter (cm)', 'Height (cm)',\n",
       "       'Length (cm)', 'Weight (kg)', 'Width (cm)', 'Seat Height (cm)',\n",
       "       'Duration (sec.)'],\n",
       "      dtype='object')"
      ]
     },
     "execution_count": 68,
     "metadata": {},
     "output_type": "execute_result"
    }
   ],
   "source": [
    "moma.columns"
   ]
  },
  {
   "cell_type": "code",
   "execution_count": 69,
   "metadata": {
    "ExecuteTime": {
     "end_time": "2019-03-08T22:10:50.437972Z",
     "start_time": "2019-03-08T22:10:50.375778Z"
    }
   },
   "outputs": [],
   "source": [
    "# Reduce the dataframe to only those artworks that have an image online.\n",
    "moma = moma[moma.ThumbnailURL.notnull()]"
   ]
  },
  {
   "cell_type": "code",
   "execution_count": 70,
   "metadata": {
    "ExecuteTime": {
     "end_time": "2019-03-08T22:10:51.070010Z",
     "start_time": "2019-03-08T22:10:51.065428Z"
    }
   },
   "outputs": [
    {
     "data": {
      "text/plain": [
       "(68565, 29)"
      ]
     },
     "execution_count": 70,
     "metadata": {},
     "output_type": "execute_result"
    }
   ],
   "source": [
    "moma.shape"
   ]
  },
  {
   "cell_type": "code",
   "execution_count": 71,
   "metadata": {
    "ExecuteTime": {
     "end_time": "2019-03-08T22:10:52.355439Z",
     "start_time": "2019-03-08T22:10:52.329572Z"
    }
   },
   "outputs": [
    {
     "data": {
      "text/html": [
       "<div>\n",
       "<style scoped>\n",
       "    .dataframe tbody tr th:only-of-type {\n",
       "        vertical-align: middle;\n",
       "    }\n",
       "\n",
       "    .dataframe tbody tr th {\n",
       "        vertical-align: top;\n",
       "    }\n",
       "\n",
       "    .dataframe thead th {\n",
       "        text-align: right;\n",
       "    }\n",
       "</style>\n",
       "<table border=\"1\" class=\"dataframe\">\n",
       "  <thead>\n",
       "    <tr style=\"text-align: right;\">\n",
       "      <th></th>\n",
       "      <th>ObjectID</th>\n",
       "      <th>URL</th>\n",
       "      <th>ThumbnailURL</th>\n",
       "      <th>Title</th>\n",
       "      <th>Artist</th>\n",
       "      <th>ConstituentID</th>\n",
       "      <th>ArtistBio</th>\n",
       "      <th>Nationality</th>\n",
       "      <th>BeginDate</th>\n",
       "      <th>EndDate</th>\n",
       "      <th>...</th>\n",
       "      <th>Cataloged</th>\n",
       "      <th>Circumference (cm)</th>\n",
       "      <th>Depth (cm)</th>\n",
       "      <th>Diameter (cm)</th>\n",
       "      <th>Height (cm)</th>\n",
       "      <th>Length (cm)</th>\n",
       "      <th>Weight (kg)</th>\n",
       "      <th>Width (cm)</th>\n",
       "      <th>Seat Height (cm)</th>\n",
       "      <th>Duration (sec.)</th>\n",
       "    </tr>\n",
       "  </thead>\n",
       "  <tbody>\n",
       "    <tr>\n",
       "      <th>0</th>\n",
       "      <td>2</td>\n",
       "      <td>http://www.moma.org/collection/works/2</td>\n",
       "      <td>http://www.moma.org/media/W1siZiIsIjU5NDA1Il0s...</td>\n",
       "      <td>Ferdinandsbrücke Project, Vienna, Austria, Ele...</td>\n",
       "      <td>Otto Wagner</td>\n",
       "      <td>6210</td>\n",
       "      <td>(Austrian, 1841–1918)</td>\n",
       "      <td>(Austrian)</td>\n",
       "      <td>-1841</td>\n",
       "      <td>-1918</td>\n",
       "      <td>...</td>\n",
       "      <td>Y</td>\n",
       "      <td>NaN</td>\n",
       "      <td>NaN</td>\n",
       "      <td>NaN</td>\n",
       "      <td>48.6000</td>\n",
       "      <td>NaN</td>\n",
       "      <td>NaN</td>\n",
       "      <td>168.9000</td>\n",
       "      <td>NaN</td>\n",
       "      <td>NaN</td>\n",
       "    </tr>\n",
       "    <tr>\n",
       "      <th>1</th>\n",
       "      <td>3</td>\n",
       "      <td>http://www.moma.org/collection/works/3</td>\n",
       "      <td>http://www.moma.org/media/W1siZiIsIjk3Il0sWyJw...</td>\n",
       "      <td>City of Music, National Superior Conservatory ...</td>\n",
       "      <td>Christian de Portzamparc</td>\n",
       "      <td>7470</td>\n",
       "      <td>(French, born 1944)</td>\n",
       "      <td>(French)</td>\n",
       "      <td>-1944</td>\n",
       "      <td>0</td>\n",
       "      <td>...</td>\n",
       "      <td>Y</td>\n",
       "      <td>NaN</td>\n",
       "      <td>NaN</td>\n",
       "      <td>NaN</td>\n",
       "      <td>40.6401</td>\n",
       "      <td>NaN</td>\n",
       "      <td>NaN</td>\n",
       "      <td>29.8451</td>\n",
       "      <td>NaN</td>\n",
       "      <td>NaN</td>\n",
       "    </tr>\n",
       "    <tr>\n",
       "      <th>2</th>\n",
       "      <td>4</td>\n",
       "      <td>http://www.moma.org/collection/works/4</td>\n",
       "      <td>http://www.moma.org/media/W1siZiIsIjk4Il0sWyJw...</td>\n",
       "      <td>Villa near Vienna Project, Outside Vienna, Aus...</td>\n",
       "      <td>Emil Hoppe</td>\n",
       "      <td>7605</td>\n",
       "      <td>(Austrian, 1876–1957)</td>\n",
       "      <td>(Austrian)</td>\n",
       "      <td>-1876</td>\n",
       "      <td>-1957</td>\n",
       "      <td>...</td>\n",
       "      <td>Y</td>\n",
       "      <td>NaN</td>\n",
       "      <td>NaN</td>\n",
       "      <td>NaN</td>\n",
       "      <td>34.3000</td>\n",
       "      <td>NaN</td>\n",
       "      <td>NaN</td>\n",
       "      <td>31.8000</td>\n",
       "      <td>NaN</td>\n",
       "      <td>NaN</td>\n",
       "    </tr>\n",
       "    <tr>\n",
       "      <th>3</th>\n",
       "      <td>5</td>\n",
       "      <td>http://www.moma.org/collection/works/5</td>\n",
       "      <td>http://www.moma.org/media/W1siZiIsIjEyNCJdLFsi...</td>\n",
       "      <td>The Manhattan Transcripts Project, New York, N...</td>\n",
       "      <td>Bernard Tschumi</td>\n",
       "      <td>7056</td>\n",
       "      <td>(French and Swiss, born Switzerland 1944)</td>\n",
       "      <td>()</td>\n",
       "      <td>-1944</td>\n",
       "      <td>0</td>\n",
       "      <td>...</td>\n",
       "      <td>Y</td>\n",
       "      <td>NaN</td>\n",
       "      <td>NaN</td>\n",
       "      <td>NaN</td>\n",
       "      <td>50.8000</td>\n",
       "      <td>NaN</td>\n",
       "      <td>NaN</td>\n",
       "      <td>50.8000</td>\n",
       "      <td>NaN</td>\n",
       "      <td>NaN</td>\n",
       "    </tr>\n",
       "    <tr>\n",
       "      <th>4</th>\n",
       "      <td>6</td>\n",
       "      <td>http://www.moma.org/collection/works/6</td>\n",
       "      <td>http://www.moma.org/media/W1siZiIsIjEyNiJdLFsi...</td>\n",
       "      <td>Villa, project, outside Vienna, Austria, Exter...</td>\n",
       "      <td>Emil Hoppe</td>\n",
       "      <td>7605</td>\n",
       "      <td>(Austrian, 1876–1957)</td>\n",
       "      <td>(Austrian)</td>\n",
       "      <td>-1876</td>\n",
       "      <td>-1957</td>\n",
       "      <td>...</td>\n",
       "      <td>Y</td>\n",
       "      <td>NaN</td>\n",
       "      <td>NaN</td>\n",
       "      <td>NaN</td>\n",
       "      <td>38.4000</td>\n",
       "      <td>NaN</td>\n",
       "      <td>NaN</td>\n",
       "      <td>19.1000</td>\n",
       "      <td>NaN</td>\n",
       "      <td>NaN</td>\n",
       "    </tr>\n",
       "  </tbody>\n",
       "</table>\n",
       "<p>5 rows × 29 columns</p>\n",
       "</div>"
      ],
      "text/plain": [
       "   ObjectID                                     URL  \\\n",
       "0         2  http://www.moma.org/collection/works/2   \n",
       "1         3  http://www.moma.org/collection/works/3   \n",
       "2         4  http://www.moma.org/collection/works/4   \n",
       "3         5  http://www.moma.org/collection/works/5   \n",
       "4         6  http://www.moma.org/collection/works/6   \n",
       "\n",
       "                                        ThumbnailURL  \\\n",
       "0  http://www.moma.org/media/W1siZiIsIjU5NDA1Il0s...   \n",
       "1  http://www.moma.org/media/W1siZiIsIjk3Il0sWyJw...   \n",
       "2  http://www.moma.org/media/W1siZiIsIjk4Il0sWyJw...   \n",
       "3  http://www.moma.org/media/W1siZiIsIjEyNCJdLFsi...   \n",
       "4  http://www.moma.org/media/W1siZiIsIjEyNiJdLFsi...   \n",
       "\n",
       "                                               Title  \\\n",
       "0  Ferdinandsbrücke Project, Vienna, Austria, Ele...   \n",
       "1  City of Music, National Superior Conservatory ...   \n",
       "2  Villa near Vienna Project, Outside Vienna, Aus...   \n",
       "3  The Manhattan Transcripts Project, New York, N...   \n",
       "4  Villa, project, outside Vienna, Austria, Exter...   \n",
       "\n",
       "                     Artist ConstituentID  \\\n",
       "0               Otto Wagner          6210   \n",
       "1  Christian de Portzamparc          7470   \n",
       "2                Emil Hoppe          7605   \n",
       "3           Bernard Tschumi          7056   \n",
       "4                Emil Hoppe          7605   \n",
       "\n",
       "                                   ArtistBio Nationality BeginDate EndDate  \\\n",
       "0                      (Austrian, 1841–1918)  (Austrian)     -1841   -1918   \n",
       "1                        (French, born 1944)    (French)     -1944       0   \n",
       "2                      (Austrian, 1876–1957)  (Austrian)     -1876   -1957   \n",
       "3  (French and Swiss, born Switzerland 1944)          ()     -1944       0   \n",
       "4                      (Austrian, 1876–1957)  (Austrian)     -1876   -1957   \n",
       "\n",
       "   ... Cataloged Circumference (cm) Depth (cm) Diameter (cm) Height (cm)  \\\n",
       "0  ...         Y                NaN        NaN           NaN     48.6000   \n",
       "1  ...         Y                NaN        NaN           NaN     40.6401   \n",
       "2  ...         Y                NaN        NaN           NaN     34.3000   \n",
       "3  ...         Y                NaN        NaN           NaN     50.8000   \n",
       "4  ...         Y                NaN        NaN           NaN     38.4000   \n",
       "\n",
       "  Length (cm) Weight (kg) Width (cm) Seat Height (cm) Duration (sec.)  \n",
       "0         NaN         NaN   168.9000              NaN             NaN  \n",
       "1         NaN         NaN    29.8451              NaN             NaN  \n",
       "2         NaN         NaN    31.8000              NaN             NaN  \n",
       "3         NaN         NaN    50.8000              NaN             NaN  \n",
       "4         NaN         NaN    19.1000              NaN             NaN  \n",
       "\n",
       "[5 rows x 29 columns]"
      ]
     },
     "execution_count": 71,
     "metadata": {},
     "output_type": "execute_result"
    }
   ],
   "source": [
    "moma.head()"
   ]
  },
  {
   "cell_type": "code",
   "execution_count": 75,
   "metadata": {
    "ExecuteTime": {
     "end_time": "2019-03-08T22:11:05.702800Z",
     "start_time": "2019-03-08T22:11:05.699906Z"
    }
   },
   "outputs": [],
   "source": [
    "# Initialize the image counter.\n",
    "imagecounter = 0"
   ]
  },
  {
   "cell_type": "code",
   "execution_count": 76,
   "metadata": {
    "ExecuteTime": {
     "end_time": "2019-03-08T22:11:07.950945Z",
     "start_time": "2019-03-08T22:11:07.946301Z"
    }
   },
   "outputs": [],
   "source": [
    "# pickle.dump(imagecounter, open('./data/moma/images/Image counter.pickle', 'wb'))"
   ]
  },
  {
   "cell_type": "markdown",
   "metadata": {},
   "source": [
    "Here is the main loop to download images."
   ]
  },
  {
   "cell_type": "code",
   "execution_count": 1,
   "metadata": {
    "ExecuteTime": {
     "end_time": "2019-04-03T21:27:08.543009Z",
     "start_time": "2019-04-03T21:27:08.539522Z"
    },
    "scrolled": true
   },
   "outputs": [],
   "source": [
    "imagecounter = pickle.load(open('./data/moma/images/Image counter.pickle', 'rb'))\n",
    "print('Starting count for this run:', imagecounter)\n",
    "print()\n",
    "# Loop over each artwork in the dataframe.\n",
    "for index, row in islice(moma.iterrows(), imagecounter, 100):\n",
    "    # print(row['artwork_id'], row['image_url'])\n",
    "    timeDelay = random.randrange(20, 30)/1000\n",
    "    time.sleep(timeDelay)\n",
    "    soup = BeautifulSoup(requests.get(row['URL'], headers = user_agent).text, \"lxml\")\n",
    "    \n",
    "    # Search the artwork's page for the URL of the image.\n",
    "    link = 'http://www.moma.org' + soup.find('div', class_='work__image-container').find('img')['src']\n",
    "    # print(link)\n",
    "    \n",
    "    # Download the image.\n",
    "    img_data = requests.get(link, headers = user_agent).content\n",
    "    file = './data/moma/images/' + str(row['ObjectID']) + '.jpg'\n",
    "    # print(file)\n",
    "    with open(file, 'wb') as handler:\n",
    "            handler.write(img_data)\n",
    "            \n",
    "    # Increment the image counter; save it every 10 images.\n",
    "    imagecounter += 1\n",
    "    if imagecounter % 10 == 0:\n",
    "        pickle.dump(imagecounter, open('./data/moma/images/Image counter.pickle', 'wb'))\n",
    "        print('Count:', imagecounter)"
   ]
  }
 ],
 "metadata": {
  "kernelspec": {
   "display_name": "Python 3",
   "language": "python",
   "name": "python3"
  },
  "language_info": {
   "codemirror_mode": {
    "name": "ipython",
    "version": 3
   },
   "file_extension": ".py",
   "mimetype": "text/x-python",
   "name": "python",
   "nbconvert_exporter": "python",
   "pygments_lexer": "ipython3",
   "version": "3.6.8"
  }
 },
 "nbformat": 4,
 "nbformat_minor": 2
}
