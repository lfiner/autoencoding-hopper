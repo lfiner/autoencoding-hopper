{
 "cells": [
  {
   "cell_type": "markdown",
   "metadata": {},
   "source": [
    "# <a id=\"top\"></a>Autoencoding Edward Hopper:<br>Using deep learning to recommend art\n",
    "\n",
    "[Larry Finer](mailto:lfiner@gmail.com)  \n",
    "March 2019\n",
    "\n",
    "The goal of this project was to build a model that would take an image of an artwork and compare it visually to a corpus of more than 100,000 artworks from museums and other sources in order to find works that are similar visually. The main steps in the project were:\n",
    "\n",
    "1. <b>Download artwork images and metadata from multiple sites</b> (this file)  \n",
    "2. Combine metadata into a single pandas dataframe  \n",
    "3. Develop a convolutional neural network autoencoder model that adequately reproduces the images\n",
    "4. Extract the narrowest encoded layer and use it to encode the entire corpus as well as a test image; then compare the test image to the entire corpus using a cosine distance measure to find the nearest images\n",
    "\n",
    "<hr>\n",
    "\n",
    "## 1b. Download Guggenheim images and metadata\n",
    "\n",
    "This file downloads the Guggenheim museum's entire online collection of approximately 1,900 images, and also downloads relevant metadata for each artwork, including artist, title, date, and medium.\n",
    "\n",
    "### Sections\n",
    "1b1. [Imports and setup](#1b1)  \n",
    "1b2. [Download images and metadata](#1b2)"
   ]
  },
  {
   "cell_type": "markdown",
   "metadata": {
    "ExecuteTime": {
     "end_time": "2019-04-02T18:42:53.391193Z",
     "start_time": "2019-04-02T18:42:53.388022Z"
    }
   },
   "source": []
  },
  {
   "cell_type": "markdown",
   "metadata": {},
   "source": [
    "### <a id=\"1b1\"></a>1b1. Imports and setup"
   ]
  },
  {
   "cell_type": "code",
   "execution_count": 3,
   "metadata": {
    "ExecuteTime": {
     "end_time": "2019-04-02T18:51:00.092844Z",
     "start_time": "2019-04-02T18:50:58.651625Z"
    }
   },
   "outputs": [],
   "source": [
    "import os\n",
    "import re\n",
    "import pandas as pd\n",
    "import numpy as np\n",
    "import random\n",
    "import time\n",
    "import pickle\n",
    "import urllib.request\n",
    "import requests\n",
    "from fake_useragent import UserAgent\n",
    "from itertools import islice\n",
    "from lxml import html\n",
    "from bs4 import BeautifulSoup"
   ]
  },
  {
   "cell_type": "code",
   "execution_count": 5,
   "metadata": {
    "ExecuteTime": {
     "end_time": "2019-04-02T18:51:28.214509Z",
     "start_time": "2019-04-02T18:51:28.210086Z"
    }
   },
   "outputs": [],
   "source": [
    "# Create a user agent for web scraping\n",
    "ua = UserAgent()\n",
    "user_agent = {'User-agent': ua.random}"
   ]
  },
  {
   "cell_type": "markdown",
   "metadata": {},
   "source": [
    "### <a id=\"1b2\"></a>1b2. Download images and metadata"
   ]
  },
  {
   "cell_type": "code",
   "execution_count": 86,
   "metadata": {},
   "outputs": [],
   "source": [
    "# Initialize counters for the main web scraping loop\n",
    "idcounter = 0\n",
    "artworkcounter = 0\n",
    "imagecounter = 0\n",
    "\n",
    "# Initialize an empty list that will contain the artwork metadata\n",
    "gugg = []"
   ]
  },
  {
   "cell_type": "markdown",
   "metadata": {},
   "source": [
    "On the Guggenheim website, artworks are presented on pages that have URLs of the form https://www.guggenheim.org/artwork/artwork-ID-number. Exploration revealed that all artworks have an ID number in the range 1 to 60,000. Rather than searching to find these ID numbers, I simply tried each of the 60,000 URLs."
   ]
  },
  {
   "cell_type": "code",
   "execution_count": 9,
   "metadata": {},
   "outputs": [
    {
     "data": {
      "text/plain": [
       "[15586, 33591, 37199, 23870, 29869, 8176, 17876, 32671, 13543, 5084]"
      ]
     },
     "execution_count": 9,
     "metadata": {},
     "output_type": "execute_result"
    }
   ],
   "source": [
    "# Create a list of 60,000 ids in random order\n",
    "ids = list(range(60000))\n",
    "random.Random(42).shuffle(ids)\n",
    "\n",
    "# Take a look at a few\n",
    "ids[:10]"
   ]
  },
  {
   "cell_type": "code",
   "execution_count": 3,
   "metadata": {},
   "outputs": [],
   "source": [
    "# IF program was interrupted, run this cell to reload the saved counters and list of artworks\n",
    "idcounter = pickle.load(open('./data/gugg/ID counter.pickle', 'rb'))\n",
    "artworkcounter = pickle.load(open('./data/gugg/Artwork counter.pickle', 'rb'))\n",
    "imagecounter = pickle.load(open('./data/gugg/Image counter.pickle', 'rb'))\n",
    "gugg = pickle.load(open('./data/gugg/Guggenheim.pickle', 'rb'))"
   ]
  },
  {
   "cell_type": "markdown",
   "metadata": {},
   "source": [
    "Here is the main web-scraping loop."
   ]
  },
  {
   "cell_type": "code",
   "execution_count": null,
   "metadata": {},
   "outputs": [],
   "source": [
    "# Short function to save counters and artwork list periodically.\n",
    "def save_counters_and_artwork_list():\n",
    "    pickle.dump(idcounter, open('./data/gugg/ID counter.pickle', 'wb'))\n",
    "    pickle.dump(artworkcounter, open('./data/gugg/Artwork counter.pickle', 'wb'))\n",
    "    pickle.dump(imagecounter, open('./data/gugg/Image counter.pickle', 'wb'))        \n",
    "    pickle.dump(gugg, open('./data/gugg/Guggenheim.pickle', 'wb'))\n",
    "    print()\n",
    "    print('IDs:', idcounter)\n",
    "    print('Artworks:', artworkcounter)\n",
    "    print('Images:', imagecounter)\n",
    "    print()"
   ]
  },
  {
   "cell_type": "code",
   "execution_count": null,
   "metadata": {
    "ExecuteTime": {
     "start_time": "2019-04-03T18:34:40.960Z"
    },
    "scrolled": true
   },
   "outputs": [],
   "source": [
    "print('Starting count for this run:', idcounter)\n",
    "print()\n",
    "# Try all id numbers from 1 (or most recently saved counter) to 60,000\n",
    "for id in ids[idcounter:]:\n",
    "    print('Attempt:', str(idcounter), 'Artwork ID:', str(id))\n",
    "    url = 'https://www.guggenheim.org/artwork/' + str(id)\n",
    "\n",
    "    timeDelay = random.randrange(20, 30)/1000\n",
    "    time.sleep(timeDelay)\n",
    "    \n",
    "    # Download the page contents using Beautiful Soup\n",
    "    soup = BeautifulSoup(requests.get(url, headers = user_agent).text, \"lxml\")\n",
    "\n",
    "    # If there is a link with rel='canonical', this is an artwork page.\n",
    "    try:\n",
    "        pagestring = soup.find('link', rel='canonical')['href']\n",
    "        # Try to get the ID number.\n",
    "        pageid = int(pagestring[pagestring.rfind('/')+1:])\n",
    "    # If the above failed, it is not an artwork page.\n",
    "    except:\n",
    "        pagestring = None\n",
    "    # If not an artwork page or no artwork ID:\n",
    "    if pagestring == None or pageid != id:\n",
    "        print('== 404 or wrong page ==')\n",
    "        # Save the counters and artwork list every 20 tries.\n",
    "        if idcounter % 20 == 0:\n",
    "            save_counters_and_artwork_list()\n",
    "        idcounter += 1\n",
    "        continue\n",
    "    \n",
    "    # Create an empty dictionary for this artwork.\n",
    "    newdict = {}\n",
    "\n",
    "    # Save the artwork ID.\n",
    "    newdict['artwork_uid'] = id\n",
    "    \n",
    "    # Extract artwork metadata: title, date and artist.\n",
    "    newdict['title'] = soup.find('meta', property='og:title')['content']\n",
    "    newdict['date'] = soup.find('meta', property='article:published_time')['content']\n",
    "\n",
    "    datadump = soup.find('script', text=re.compile('\"artist\":')).text\n",
    "    chop = datadump[datadump.find('\"artist\":[{\"id\":')+16:datadump.find(',\"url\"')]\n",
    "    artist = chop[chop.find('\"name\":\"')+8:-1]\n",
    "    print(artist)\n",
    "    newdict['artist'] = artist\n",
    "    \n",
    "    # Get the URL for the image.\n",
    "    image_url = soup.find('meta', property='og:image:secure_url')['content']\n",
    "    \n",
    "    # Save the image itself into a local directory.\n",
    "    img_data = requests.get(image_url, headers = user_agent).content\n",
    "    file = './data/gugg/images/' + str(id) + '.jpg'\n",
    "    # print(file)\n",
    "    with open(file, 'wb') as handler:\n",
    "        handler.write(img_data)\n",
    "    imagecounter += 1\n",
    "    \n",
    "    # Save the artwork URL.\n",
    "    newdict['image_url'] = image_url\n",
    "\n",
    "    # Add the filled-in dictionary to the list of artworks.\n",
    "    gugg.append(newdict)    \n",
    "            \n",
    "    # Increment counters.\n",
    "    idcounter += 1\n",
    "    artworkcounter += 1\n",
    "    \n",
    "    # Save counters and artwork list every 20 tries.\n",
    "    if idcounter % 20 == 0:\n",
    "        save_counters_and_artwork_list()"
   ]
  },
  {
   "cell_type": "code",
   "execution_count": 11,
   "metadata": {},
   "outputs": [
    {
     "data": {
      "text/plain": [
       "1901"
      ]
     },
     "execution_count": 11,
     "metadata": {},
     "output_type": "execute_result"
    }
   ],
   "source": [
    "# Check the final number of artworks.\n",
    "len(gugg)"
   ]
  },
  {
   "cell_type": "code",
   "execution_count": 12,
   "metadata": {},
   "outputs": [
    {
     "data": {
      "text/plain": [
       "[{'artwork_uid': 8303,\n",
       "  'title': 'Composition No. 2',\n",
       "  'date': '1946-01-01T05:00:00+00:00',\n",
       "  'artist': 'Wallace Mitchell',\n",
       "  'image_url': 'https://i0.wp.com/www.guggenheim.org/wp-content/uploads/1946/01/46.1048_ph_web-1.jpg'},\n",
       " {'artwork_uid': 493,\n",
       "  'title': 'Dusk',\n",
       "  'date': '1958-01-01T05:00:00+00:00',\n",
       "  'artist': 'William Baziotes',\n",
       "  'image_url': 'https://i2.wp.com/www.guggenheim.org/wp-content/uploads/1958/01/59.1544_ph_web-1.jpg'},\n",
       " {'artwork_uid': 18939,\n",
       "  'title': 'Untitled (Dance Floor)',\n",
       "  'date': '1996-01-01T05:00:00+00:00',\n",
       "  'artist': 'Piotr Uklanski',\n",
       "  'image_url': 'https://i2.wp.com/www.guggenheim.org/wp-content/uploads/1996/01/2006.72_ph_web-1.jpg'},\n",
       " {'artwork_uid': 1186,\n",
       "  'title': 'Attirement of the Bride (La Toilette de la mariée)',\n",
       "  'date': '1940-01-01T05:00:00+00:00',\n",
       "  'artist': 'Max Ernst',\n",
       "  'image_url': 'https://i2.wp.com/www.guggenheim.org/wp-content/uploads/1940/01/76.2553.78_ph_web-1.jpg'},\n",
       " {'artwork_uid': 13481,\n",
       "  'title': 'untitled 2002 (he promised)',\n",
       "  'date': '2002-01-01T05:00:00+00:00',\n",
       "  'artist': 'Rirkrit Tiravanija',\n",
       "  'image_url': 'https://i2.wp.com/www.guggenheim.org/wp-content/uploads/2002/01/2004.124_ph_web-1.jpg'},\n",
       " {'artwork_uid': 12078,\n",
       "  'title': 'Dreaming of Babylon 16',\n",
       "  'date': '1999-01-01T05:00:00+00:00',\n",
       "  'artist': 'Rika Noguchi',\n",
       "  'image_url': 'https://i0.wp.com/www.guggenheim.org/wp-content/uploads/1999/01/2003.28_ph_web-1.jpg'},\n",
       " {'artwork_uid': 20465,\n",
       "  'title': 'Flipside',\n",
       "  'date': '1991-01-01T05:00:00+00:00',\n",
       "  'artist': 'Lorna Simpson',\n",
       "  'image_url': 'https://i1.wp.com/www.guggenheim.org/wp-content/uploads/1991/01/2007.32_ph_web-1.jpg'},\n",
       " {'artwork_uid': 33708,\n",
       "  'title': 'Phantom Library',\n",
       "  'date': '2011-01-01T05:00:00+00:00',\n",
       "  'artist': 'Agnieszka Kurant',\n",
       "  'image_url': 'https://i1.wp.com/www.guggenheim.org/wp-content/uploads/2011/01/2014.126_ph_web-1.jpg'},\n",
       " {'artwork_uid': 34601,\n",
       "  'title': 'Flying Carpets',\n",
       "  'date': '2011-01-01T05:00:00+00:00',\n",
       "  'artist': 'Nadia Kaabi-Linke',\n",
       "  'image_url': 'https://i0.wp.com/www.guggenheim.org/wp-content/uploads/2011/01/2015.92_ph_web-1.jpg'},\n",
       " {'artwork_uid': 10240,\n",
       "  'title': 'All Demons Flee',\n",
       "  'date': '1995-01-01T05:00:00+00:00',\n",
       "  'artist': 'Shirin Neshat',\n",
       "  'image_url': 'https://i0.wp.com/www.guggenheim.org/wp-content/uploads/1995/01/2001.45_ph_web-1.jpg'}]"
      ]
     },
     "execution_count": 12,
     "metadata": {},
     "output_type": "execute_result"
    }
   ],
   "source": [
    "# Take a look at a few artwork metadata entries.\n",
    "gugg[:10]"
   ]
  }
 ],
 "metadata": {
  "kernelspec": {
   "display_name": "Python 3",
   "language": "python",
   "name": "python3"
  },
  "language_info": {
   "codemirror_mode": {
    "name": "ipython",
    "version": 3
   },
   "file_extension": ".py",
   "mimetype": "text/x-python",
   "name": "python",
   "nbconvert_exporter": "python",
   "pygments_lexer": "ipython3",
   "version": "3.6.8"
  }
 },
 "nbformat": 4,
 "nbformat_minor": 2
}
